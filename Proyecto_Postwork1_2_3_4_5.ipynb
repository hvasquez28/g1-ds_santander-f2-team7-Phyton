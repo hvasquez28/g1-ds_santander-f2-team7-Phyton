{
  "nbformat": 4,
  "nbformat_minor": 0,
  "metadata": {
    "colab": {
      "provenance": [],
      "collapsed_sections": [
        "cMDAbRuqyUqY",
        "z2qEgfpuUquP",
        "juKcSPxb19pz",
        "oNgKTzNHUv9o",
        "SDPxMADGypxP",
        "bJVUo0YRaa-T",
        "FClC45zYdaU7",
        "6KwQDDsQt3PF",
        "Mf4RLsnq9hLI",
        "V02ZiU6wWNoh",
        "AwcaCG6LO-d_",
        "0yFOBgR7oEsO",
        "QL5DEPBZsskc",
        "r6nrUVZ-s2nz",
        "P0ATwUBFLyME",
        "lKBx9B0a0Aol",
        "w9uNN1Uy0ELj",
        "Q2KNq88E-TVO",
        "jGIcL7Uc-iQT",
        "ZXhqFAGs17mY",
        "l36G1SnGEsW1",
        "SgaH5Rr0t54u",
        "xEcPKhIZHbOU",
        "wlTDuVrKHt9m",
        "On42Cje9watp",
        "6xW7uLLvAI3n",
        "yHy9kyezFvsR",
        "ZWuNiXXfByJN",
        "_yZZvmG7C9UU"
      ],
      "include_colab_link": true
    },
    "kernelspec": {
      "name": "python3",
      "display_name": "Python 3"
    },
    "language_info": {
      "name": "python"
    }
  },
  "cells": [
    {
      "cell_type": "markdown",
      "metadata": {
        "id": "view-in-github",
        "colab_type": "text"
      },
      "source": [
        "<a href=\"https://colab.research.google.com/github/DanielT-M/project1-ds_santander-f3-team6-data_analysis_in_Phyton/blob/daniel/Proyecto_Postwork1_2_3_4_5.ipynb\" target=\"_parent\"><img src=\"https://colab.research.google.com/assets/colab-badge.svg\" alt=\"Open In Colab\"/></a>"
      ]
    },
    {
      "cell_type": "markdown",
      "source": [
        "<a id=\"problema\"></a>\n",
        "# <font color=green>Identificación del Problema</font>\n",
        "\n",
        "Para cualquier nuevo emprendedor, existe una serie de retos que lo abruman en su aventura de iniciar un nuevo negocio. La mayor incertidumbre es poder disponer de la información necesaria que lo apoye en la toma correcta de decisiones y así mitigar los riesgos de una mala inversión de tiempo y dinero.\n",
        "\n",
        "Para esto, sería de gran ayuda proveerle a cada emprendedor de herramientas que le aporten información ordenada, certera y fidedigna; de tal forma que le otorgue seguridad y mayor certeza de si su idea será rentable o no.\n",
        "\n",
        "Por lo tanto, sin lugar a duda, la **ciencia de datos** es la mejor herramienta que permitiría la creación de este tipo de herramientas de apoyo para un emprendedor y su nuevo negocio.\n",
        "\n",
        "## Investigación al respecto del problema\n",
        "\n",
        "En esta sección ira la investigación\n",
        "\n",
        "## Búsqueda de soluciones anteriores\n",
        "\n",
        "En esta sección irá las soluciones previas"
      ],
      "metadata": {
        "id": "z2qEgfpuUquP"
      }
    },
    {
      "cell_type": "markdown",
      "source": [
        "<a id=\"preguntas\"></a>\n",
        "# <font color=green>Planteamiento de Preguntas </font>\n",
        "\n",
        "De acuerdo con el problema planteado anteriormente, surgieron las siguientes preguntas tanto del emprendedor como del equipo:\n",
        "\n",
        "1.  ¿Cuál es la mejor ubicación en Guadalajara, México para abrir mi negocio de bicicletas?\n",
        "2. ¿Qué tantas ventas podré obtener en los primeros meses de iniciado mi negocio?\n",
        "3. ¿Cuáles son los productos más demandados por los potenciales clientes?\n",
        "4. ¿Qué precios serán los más competitivos para las bicicletas?\n",
        "5. ¿Qué tan frecuente un cliente querrá comprar ropa o accesorios para sus bicicletas?\n",
        "6. ¿Qué tantos clientes acudirán a mi negocio por una reparación o mejora en su bicicleta?\n",
        "\n",
        "Aunque no tenemos seguridad si podremos responder todas las preguntas planteadas, se le comentó al emprendedor que se hará un análisis de la data disponible y se evaluará que información se le puede presentar.\n",
        "\n"
      ],
      "metadata": {
        "id": "juKcSPxb19pz"
      }
    },
    {
      "cell_type": "markdown",
      "source": [
        "# Colección de Datos\n",
        "Se tomo la decision de usar \"Bike Buyers 1000\" y \"Bike Sales\", dado que contienen informacion relevante a la problematica sobre la cual se esta tratando y ambos datasets se complementan, los cuales fueron encontrados en kaggle.\n",
        "\n",
        "\"Bike Buyers 1000\" \n",
        "link: \"https://www.kaggle.com/datasets/heeraldedhia/bike-buyers\"\n",
        "\n",
        "\"Bike Sales\"\n",
        "link: \"https://www.kaggle.com/datasets/liyingiris90/bike-sales\"\n",
        "\n",
        "## Proceso para obtener el dataset\n",
        "\n",
        "Dado que los archivos contenidos dentro del conjunto de datos de Bike Sales estan en formato .xlsx, se uso la funcion <font color =red> *pd.read_excel* </font> de pandas.\n",
        "\n",
        "Para Bike Buyers al ser un formato csv, se usa nuestra funcion ya conocida  <font color =red> *pd.read_csv*</font>  "
      ],
      "metadata": {
        "id": "rmRnB11oZ6U1"
      }
    },
    {
      "cell_type": "markdown",
      "source": [
        "Se importan las siguientes librerias..."
      ],
      "metadata": {
        "id": "FSEsiAwG0Ahn"
      }
    },
    {
      "cell_type": "code",
      "source": [
        "!pip install colorama"
      ],
      "metadata": {
        "id": "QL0s1IW1MYXI"
      },
      "execution_count": null,
      "outputs": []
    },
    {
      "cell_type": "code",
      "source": [
        "import pandas as pd\n",
        "import numpy as np\n",
        "import seaborn as sns\n",
        "from colorama import Fore\n",
        "from colorama import Style\n",
        "import matplotlib.pyplot as plt\n",
        "sns.set()\n",
        "import scipy.optimize as opt\n",
        "from sklearn import preprocessing\n",
        "from sklearn.model_selection import train_test_split\n",
        "from sklearn.linear_model import LogisticRegression\n",
        "from sklearn.metrics import confusion_matrix, classification_report\n",
        "from sklearn.cluster import KMeans"
      ],
      "metadata": {
        "id": "SOxO5h6Hx_I7"
      },
      "execution_count": null,
      "outputs": []
    },
    {
      "cell_type": "markdown",
      "source": [
        "Se guardan los respectivos DataFrames del conjunto de datos <font color=blue> \"bike sales\"</font> y <font color=blue> \"bike buyers\""
      ],
      "metadata": {
        "id": "2M9YsQXUz_zr"
      }
    },
    {
      "cell_type": "code",
      "source": [
        "compradores = pd.read_csv(\"https://raw.githubusercontent.com/hvasquez28/g1-ds_santander-f2-team7-Phyton/datos-faltantes-y-correciones/Entrega_Final_Procesamiento_DanielTapia_LuisZanabria_NorbertoPena_HaroldVasquez/datasets/bike_buyers.csv\")"
      ],
      "metadata": {
        "id": "4PrAfVMz3oxh"
      },
      "execution_count": null,
      "outputs": []
    },
    {
      "cell_type": "code",
      "source": [
        "bikes = pd.read_excel('https://github.com/hvasquez28/g1-ds_santander-f2-team7-Phyton/blob/datos-faltantes-y-correciones/Entrega_Final_Procesamiento_DanielTapia_LuisZanabria_NorbertoPena_HaroldVasquez/datasets/bikes.xlsx?raw=true')\n",
        "bikestores = pd.read_excel(\"https://github.com/hvasquez28/g1-ds_santander-f2-team7-Phyton/blob/datos-faltantes-y-correciones/Entrega_Final_Procesamiento_DanielTapia_LuisZanabria_NorbertoPena_HaroldVasquez/datasets/bikeshops.xlsx?raw=true\")\n",
        "orders = pd.read_excel(\"https://github.com/hvasquez28/g1-ds_santander-f2-team7-Phyton/blob/datos-faltantes-y-correciones/Entrega_Final_Procesamiento_DanielTapia_LuisZanabria_NorbertoPena_HaroldVasquez/datasets/orders.xlsx?raw=true\")"
      ],
      "metadata": {
        "id": "A2uCs2NUz8iY"
      },
      "execution_count": null,
      "outputs": []
    },
    {
      "cell_type": "markdown",
      "source": [
        "# Exploracion de los Datasets\n",
        "Procedemos a revisar cada DataFrame usando <font color=blue> .head() </font> y <font color=blue>.tail()  </font>, asi como <font color=blue> .dtypes, .columns, .shape, .loc[$n:m$] </font> (donde $n,m ∈ 𝖭$ y $n<m.$) "
      ],
      "metadata": {
        "id": "djxBigkA1e6A"
      }
    },
    {
      "cell_type": "code",
      "source": [
        "compradores.dtypes #Se tienen flotantes que deberian de ser enteros.\n",
        "compradores.shape #Se tienen 1000 entradas y 13 columnas.\n",
        "compradores.columns # ID, Marital S, Gender, Income, Children, Education, Occupation, Home Owner, Cars, Commute Distance, Region, Age, purchase bike\n",
        "compradores.head() # Se observan NaNs\n",
        "compradores.tail() # Se observan NaNs\n",
        "c=list(compradores.columns) # Se guarda el nombre de las columnas en una lista, que sera usada mas adelante para cambiar los nombres de nuestro dataframe. \n",
        "compradores.loc[500:515] # Se observan Nans. "
      ],
      "metadata": {
        "id": "3vdOsSmq1V7U"
      },
      "execution_count": null,
      "outputs": []
    },
    {
      "cell_type": "code",
      "source": [
        "bikes.dtypes # El unico data que parecer ser incorrecto es el precio, que es de tipo int. \n",
        "bikes.shape # Se tienen un total de 97 filas con 5 columnas\n",
        "bikes.columns # bike.id, model, category1, category2, frame, price. Se renombraran columnas.\n",
        "bikes.head() #No se observan Nans.\n",
        "bikes.tail() #No se observan Nans.\n",
        "bc=list(bikes.columns)\n",
        "bikes.loc[46:58] # No se observan Nans de forma aleatoria"
      ],
      "metadata": {
        "id": "jSqk10OZFqxP"
      },
      "execution_count": null,
      "outputs": []
    },
    {
      "cell_type": "code",
      "source": [
        "bikestores.dtypes # Todos los datos tienen el tipo correcto.\n",
        "bikestores.shape # Se tienen un total de 30 filas con 6 columnas\n",
        "bikestores.columns # bikeshop.id , bikeshop.name, bikeshop.city, bikeshop.state, latitude , longitude. Se renombraran columnas.\n",
        "bikestores.head() # No se observan Nans.\n",
        "bikestores.tail() # No se observan Nans.\n",
        "bs=list(bikestores.columns)\n",
        "bikestores.loc[10:25] #No se observan Nans. "
      ],
      "metadata": {
        "id": "RQ43tz5VGjS7"
      },
      "execution_count": null,
      "outputs": []
    },
    {
      "cell_type": "code",
      "source": [
        "orders.dtypes # Se observa que order.id, order.line, customer.id y product.id son de tipo flotante cuando deberian de ser de tipo entero.\n",
        "orders.shape # Tiene un total de 15644 filas y 7 columnas. \n",
        "orders.columns #'Unnamed: 0', 'order.id', 'order.line', 'order.date', 'customer.id','product.id' y 'quantity'. Se renombraran las columnas.\n",
        "oc=list(orders.columns) \n",
        "orders.head() #No se observan Nans, por otro lado, se observa que la columna 'Unnamed: 0' esta repetida. \n",
        "orders.tail() # No se observan Nans. \n",
        "orders.loc[10468:10480] # no se observan Nans."
      ],
      "metadata": {
        "id": "txvHcbEJFrdM"
      },
      "execution_count": null,
      "outputs": []
    },
    {
      "cell_type": "markdown",
      "source": [
        "Conociendo los valores de algunas columnas de algunos dataSets"
      ],
      "metadata": {
        "id": "2rfUyzukYzIv"
      }
    },
    {
      "cell_type": "code",
      "source": [
        "orders['product.id'].unique()"
      ],
      "metadata": {
        "id": "qBXRGMqzY1BK"
      },
      "execution_count": null,
      "outputs": []
    },
    {
      "cell_type": "code",
      "source": [
        "orders['customer.id'].unique()"
      ],
      "metadata": {
        "id": "qXNButZYY4HO"
      },
      "execution_count": null,
      "outputs": []
    },
    {
      "cell_type": "code",
      "source": [
        "bikes['bike.id'].unique()"
      ],
      "metadata": {
        "id": "Ely_itcUZHMv"
      },
      "execution_count": null,
      "outputs": []
    },
    {
      "cell_type": "code",
      "source": [
        "bikestores['bikeshop.id'].unique()"
      ],
      "metadata": {
        "id": "V9rzCeMfZKJJ"
      },
      "execution_count": null,
      "outputs": []
    },
    {
      "cell_type": "markdown",
      "source": [
        "#Renombramos las columnas en los DataFrames."
      ],
      "metadata": {
        "id": "oNgKTzNHUv9o"
      }
    },
    {
      "cell_type": "markdown",
      "source": [
        "Se crean diccionarios para cambiar el nombre de las columnas de nuestros data frames."
      ],
      "metadata": {
        "id": "TbsOSStBLhVn"
      }
    },
    {
      "cell_type": "code",
      "source": [
        "comp_names = {c[0]:'id_comprador',\n",
        "              c[1]:'estado_civil',\n",
        "              c[2]:'genero',\n",
        "              c[3]:'sueldo',\n",
        "              c[4]:'hijos',\n",
        "              c[5]:'educacion',\n",
        "              c[6]:\"profesion\",\n",
        "              c[7]:\"posee_casa\",\n",
        "              c[8]:'autos',\n",
        "              c[9]:'distancia_d_viaje',\n",
        "              c[10]:'region',\n",
        "              c[11]:'edad',\n",
        "              c[12]:'bicicleta_adquirida'}\n",
        "\n",
        "bike_names = {bc[0]:'id_bicicleta',\n",
        "              bc[1]:'modelo',\n",
        "              bc[2]:'categoria_1',\n",
        "              bc[3]:'categoria_2',\n",
        "              bc[4]:'aleacion',\n",
        "              bc[5]:'precio'}\n",
        "\n",
        "stores_nombres = {bs[0]:'id_tienda',\n",
        "                  bs[1]:'nombre_tienda',\n",
        "                  bs[2]:'ciudad',\n",
        "                  bs[3]:'estado',\n",
        "                  bs[4]:'latitud',\n",
        "                  bs[5]:'longitud'}\n",
        "\n",
        "orders_nombres = {oc[1]:'id_orden',\n",
        "                  oc[2]:'orden_line',\n",
        "                  oc[3]:'orden_date',\n",
        "                  oc[4]:'id_tienda',\n",
        "                  oc[5]:'id_bicicleta',\n",
        "                  oc[6]:'numero_items'}"
      ],
      "metadata": {
        "id": "RaJeGCnTAUr1"
      },
      "execution_count": null,
      "outputs": []
    },
    {
      "cell_type": "markdown",
      "source": [
        "Nos percatamos del hecho, de que la columna customer_id es realmente el id_tienda. Dado que ambas coinciden con el numero de entradas y los valores asociados a cada una. "
      ],
      "metadata": {
        "id": "7Vj8dR5RTbJT"
      }
    },
    {
      "cell_type": "code",
      "source": [
        "compradores = compradores.rename(columns=comp_names)\n",
        "ordenes = orders.rename(columns=orders_nombres)\n",
        "bicicletas = bikes.rename(columns=bike_names)\n",
        "tiendas =  bikestores.rename(columns=stores_nombres)"
      ],
      "metadata": {
        "id": "Tyf5Xa8wU0s1"
      },
      "execution_count": null,
      "outputs": []
    },
    {
      "cell_type": "markdown",
      "source": [
        "# Eliminación de NaNs\n",
        "\n",
        "EPara tener unos DataFrames mas limpios, se eliminan los NaNs"
      ],
      "metadata": {
        "id": "FClC45zYdaU7"
      }
    },
    {
      "cell_type": "code",
      "source": [
        "# Se crean las siguientes funciones para determinar NaNs entre los distintos DataFrames.\n",
        "def numero_nans(dataframe):\n",
        "    print(dataframe.isna().sum())\n",
        "\n",
        "def porcentaje_nans(dataframe):\n",
        "  print(dataframe.isna().sum()/len(dataframe)*100)"
      ],
      "metadata": {
        "id": "R5lr-dRCHIEX"
      },
      "execution_count": null,
      "outputs": []
    },
    {
      "cell_type": "code",
      "source": [
        "porcentaje_nans(ordenes)\n",
        "porcentaje_nans(tiendas)\n",
        "porcentaje_nans(bicicletas)\n",
        "porcentaje_nans(compradores) #El unico DataFrame con Nans presentes, es el de Compradores. \n",
        "numero_nans(compradores)"
      ],
      "metadata": {
        "id": "kG75Mvg6MRpB"
      },
      "execution_count": null,
      "outputs": []
    },
    {
      "cell_type": "markdown",
      "source": [
        "Se llanan las Nans. "
      ],
      "metadata": {
        "id": "rw3FUw3zeQI4"
      }
    },
    {
      "cell_type": "code",
      "source": [
        "compradores[['hijos','autos']] = compradores[['hijos','autos']].fillna(0)\n",
        "compradores['estado_civil'] = compradores['estado_civil'].fillna('Single')\n",
        "compradores['posee_casa'] = compradores['posee_casa'].fillna('No')\n",
        "compradores =compradores.dropna(how='any')\n",
        "compradores = compradores.reset_index(drop=True) \n",
        "numero_nans(compradores)"
      ],
      "metadata": {
        "id": "G0P8mHD8Pc3n"
      },
      "execution_count": null,
      "outputs": []
    },
    {
      "cell_type": "markdown",
      "source": [
        "#Se procede a cambiar el tipo de dato de cada DataFrame.\n",
        "\n",
        "Para esto crearemos diccionarios con los nuevos tipos de datos y aplicaremos la funcion de pandas *.astype()*"
      ],
      "metadata": {
        "id": "6KwQDDsQt3PF"
      }
    },
    {
      "cell_type": "code",
      "source": [
        "print(ordenes.dtypes) # Tiene flotantes que deben de ser enteros. \n",
        "print(tiendas.dtypes) # Tiendas tiene todos los tipos de datos correctos.\n",
        "print(compradores.dtypes) # Tiene flotantes que deben de ser enteros. \n",
        "print(bicicletas.dtypes) # Tiene un int que deberia de ser flotante. "
      ],
      "metadata": {
        "id": "s-mGrHgU8N2W"
      },
      "execution_count": null,
      "outputs": []
    },
    {
      "cell_type": "code",
      "source": [
        "c=list(compradores.columns)\n",
        "oc=list(ordenes.columns)\n",
        "nuevos_types_compra = {c[4]:int,\n",
        "         c[8]:int,\n",
        "         c[11]:int}\n",
        "\n",
        "new_types_orders ={oc[1]:int,\n",
        "                   oc[2]:int,\n",
        "                   oc[4]:int,\n",
        "                   oc[5]:int,\n",
        "                   oc[6]:int}"
      ],
      "metadata": {
        "id": "gvE8ets2t-Nm"
      },
      "execution_count": null,
      "outputs": []
    },
    {
      "cell_type": "code",
      "source": [
        "ordenes = ordenes.astype(new_types_orders)\n",
        "compradores = compradores.astype(nuevos_types_compra)\n",
        "bicicletas['precio'] = bicicletas['precio'].astype(float) # Se usa este metodo, dado que solo hay que cambiar de tipo de dato a una variable."
      ],
      "metadata": {
        "id": "6vvHhShT77QQ"
      },
      "execution_count": null,
      "outputs": []
    },
    {
      "cell_type": "markdown",
      "source": [
        "##Procederemos a eliminar la columna 'Unnamed: 0' del DataFrame ordenes"
      ],
      "metadata": {
        "id": "Mf4RLsnq9hLI"
      }
    },
    {
      "cell_type": "code",
      "source": [
        "ordenes.drop(columns='Unnamed: 0',inplace=True)"
      ],
      "metadata": {
        "id": "_89zUP_p9tqy"
      },
      "execution_count": null,
      "outputs": []
    },
    {
      "cell_type": "markdown",
      "source": [
        "#Procedemos a unir las diferentes tablas para posteriormente realizar las agregaciones adecuadas. "
      ],
      "metadata": {
        "id": "V02ZiU6wWNoh"
      }
    },
    {
      "cell_type": "markdown",
      "source": [
        "###Ordenes y Bicicletas."
      ],
      "metadata": {
        "id": "AwcaCG6LO-d_"
      }
    },
    {
      "cell_type": "code",
      "source": [
        "or_bikes = pd.merge(ordenes,bicicletas,left_on='id_bicicleta',right_index=True)\n",
        "or_bikes.drop(columns=['id_bicicleta_x','id_bicicleta_y'], inplace=True)\n",
        "or_bikes"
      ],
      "metadata": {
        "id": "KBUOI6d_WNWW"
      },
      "execution_count": null,
      "outputs": []
    },
    {
      "cell_type": "markdown",
      "source": [
        "###Tiendas y Ordenes"
      ],
      "metadata": {
        "id": "0yFOBgR7oEsO"
      }
    },
    {
      "cell_type": "code",
      "source": [
        "str_orders = pd.merge(ordenes,tiendas,left_on='id_tienda',right_index=True)\n",
        "str_orders.drop(columns=['id_tienda_x','id_tienda_y'])"
      ],
      "metadata": {
        "id": "9b-keAWMoITe"
      },
      "execution_count": null,
      "outputs": []
    },
    {
      "cell_type": "markdown",
      "source": [
        "##Tiendas, Bicicletas y Ordenes"
      ],
      "metadata": {
        "id": "QL5DEPBZsskc"
      }
    },
    {
      "cell_type": "markdown",
      "source": [
        "Para obtener las verdaderas ganancias por cada bicicleta se crea una nueva columna llamada total. "
      ],
      "metadata": {
        "id": "y0foCEib0_gw"
      }
    },
    {
      "cell_type": "code",
      "source": [
        "total_vendido = or_bikes['numero_items']*or_bikes['precio']\n",
        "or_bikes['total'] = total_vendido\n",
        "or_bikes"
      ],
      "metadata": {
        "id": "leZxktYD1GFu"
      },
      "execution_count": null,
      "outputs": []
    },
    {
      "cell_type": "code",
      "source": [
        "str_or_bks = pd.merge(or_bikes,tiendas,left_on='id_tienda',right_index=True)\n",
        "str_or_bks.drop(columns=['id_tienda_x','id_tienda_y'],inplace=True)\n",
        "str_or_bks\n"
      ],
      "metadata": {
        "id": "q36gQgoos29t"
      },
      "execution_count": null,
      "outputs": []
    },
    {
      "cell_type": "markdown",
      "source": [
        "#Agregaciones"
      ],
      "metadata": {
        "id": "r6nrUVZ-s2nz"
      }
    },
    {
      "cell_type": "markdown",
      "source": [
        "##Numero de items vendidos por cada tienda"
      ],
      "metadata": {
        "id": "P0ATwUBFLyME"
      }
    },
    {
      "cell_type": "code",
      "source": [
        "str_orders.groupby(['nombre_tienda'])['numero_items'].sum().sort_values(ascending=False).head(5) ## SE USA HEAD  para no Mostrar tantos resultados"
      ],
      "metadata": {
        "id": "vie7Ex_DvZHW"
      },
      "execution_count": null,
      "outputs": []
    },
    {
      "cell_type": "markdown",
      "source": [
        "Las tiendas que mas han vendido con su respectivo total son...\n",
        ">New York Cycles          ~       3471\n",
        "\n",
        ">Minneapolis Bike Shop      ~     2301\n",
        "\n",
        ">Las Vegas Cycles            ~    1419\n",
        "\n",
        ">Columbus Race Equipment      ~   1264\n",
        "\n",
        ">Albuquerque Cycles            ~  1155"
      ],
      "metadata": {
        "id": "pdSFZMhcwcIV"
      }
    },
    {
      "cell_type": "markdown",
      "source": [
        "Mientras que las de menores vendas se conforman por... con un total de..\n",
        ">Phoenix Bi-peds        ~          246\n",
        "\n",
        ">Providence Bi-peds      ~       245\n",
        "\n",
        ">Oklahoma City Race Equipment  ~   234\n",
        "\n",
        ">Wichita Speed                  ~ 186\n",
        "\n",
        ">Ann Arbor Speed                ~  128"
      ],
      "metadata": {
        "id": "S6cs6pIAxSTl"
      }
    },
    {
      "cell_type": "markdown",
      "source": [
        "## Bicicletas Menos y Mas vendidas"
      ],
      "metadata": {
        "id": "OqCy4rlYtugL"
      }
    },
    {
      "cell_type": "code",
      "source": [
        "or_bikes.groupby('modelo')['numero_items'].sum().sort_values(ascending=False)"
      ],
      "metadata": {
        "id": "kyVTtA4Vxnp8"
      },
      "execution_count": null,
      "outputs": []
    },
    {
      "cell_type": "markdown",
      "source": [
        "Las Bicicletas mas vendidas fueron... con un total de...\n",
        ">Slice Ultegra        ->              301\n",
        "\n",
        ">F-Si 3                ->             293\n",
        "\n",
        ">F-Si Black Inc.         ->           293\n",
        "\n",
        ">Supersix Evo Ultegra 4    ->         290\n",
        "\n",
        ">CAAD Disc Ultegra           ->       282\n"
      ],
      "metadata": {
        "id": "Q6K5Rx0XyyE2"
      }
    },
    {
      "cell_type": "markdown",
      "source": [
        "Mientras que las menos vendidas fueron... con un total de...\n",
        ">Habit 4              ~              143\n",
        "\n",
        ">Habit Carbon 2        ~             143\n",
        "\n",
        ">Habit Carbon SE        ~            140\n",
        "\n",
        ">Synapse Carbon Disc Ultegra D12  ~  139\n",
        "\n",
        ">Jekyll Carbon 4                ~    132"
      ],
      "metadata": {
        "id": "PRE1in2EzTyO"
      }
    },
    {
      "cell_type": "markdown",
      "source": [
        "##Ganancias Obtenidas por cada Bicicleta"
      ],
      "metadata": {
        "id": "lKBx9B0a0Aol"
      }
    },
    {
      "cell_type": "code",
      "source": [
        "or_bikes.groupby('modelo')['total'].sum().sort_values(ascending=False)"
      ],
      "metadata": {
        "id": "2nhKdr8f2KX3"
      },
      "execution_count": null,
      "outputs": []
    },
    {
      "cell_type": "markdown",
      "source": [
        "Las mejores y peores ganancias obtenidos por bicicleta fueron las siguientes... con un total de...\n",
        ">Scalpel-Si Black Inc.     ~        3299820.0\n",
        "\n",
        ">F-Si Black Inc.            ~       3278670.0\n",
        "\n",
        ">Habit Hi-Mod Black Inc.     ~      2670500.0\n",
        "\n",
        ">Trigger Carbon 1             ~     2140200.0\n",
        "\n",
        ">Synapse Hi-Mod Disc Black Inc. ~    2100210.0\n"
      ],
      "metadata": {
        "id": "9vJ6sO552eLO"
      }
    },
    {
      "cell_type": "markdown",
      "source": [
        "Mientras que las peores...\n",
        ">Trail 5    ~                        212715.0\n",
        "\n",
        ">Catalyst 1  ~                      184710.0\n",
        "\n",
        ">Catalyst 2   ~                      119925.0\n",
        "\n",
        ">Catalyst 3    ~                     118080.0\n",
        "\n",
        ">Catalyst 4     ~                     96695.0"
      ],
      "metadata": {
        "id": "1ync6_dw3EMx"
      }
    },
    {
      "cell_type": "markdown",
      "source": [
        "##Ganancias obtenidas por cada Tienda"
      ],
      "metadata": {
        "id": "w9uNN1Uy0ELj"
      }
    },
    {
      "cell_type": "markdown",
      "source": [
        "Ya vimos las ganacias que cada bicicleta trae, ahora veamos las ganancias de cada tienda, para esto sera necesario mezclar las tres tablas."
      ],
      "metadata": {
        "id": "uwaRTRDT3WGy"
      }
    },
    {
      "cell_type": "code",
      "source": [
        "str_or_bks.groupby('nombre_tienda')['total'].sum().sort_values(ascending=False).head(5) ## SE USA HEAD  para no Mostrar tantos resultados"
      ],
      "metadata": {
        "id": "fZCSuCBq3dQE"
      },
      "execution_count": null,
      "outputs": []
    },
    {
      "cell_type": "markdown",
      "source": [
        "###Veamos que las tiendas con mayores ganancias son... con un total de...\n",
        ">New York Cycles         ~        12476315.0\n",
        "\n",
        ">Minneapolis Bike Shop    ~        8018850.0\n",
        "\n",
        ">Columbus Race Equipment   ~       5635205.0\n",
        "\n",
        ">Las Vegas Cycles           ~      4763175.0\n",
        "\n",
        ">Albuquerque Cycles          ~     3959000.0"
      ],
      "metadata": {
        "id": "Q2KNq88E-TVO"
      }
    },
    {
      "cell_type": "markdown",
      "source": [
        "###Mientras que aquellas con menores ganancias...\n",
        ">Providence Bi-peds                819110.0\n",
        "\n",
        ">Oklahoma City Race Equipment ~     763390.0\n",
        "\n",
        ">Phoenix Bi-peds               ~    737905.0\n",
        "\n",
        ">Wichita Speed                  ~   665510.0\n",
        "\n",
        ">Ann Arbor Speed                 ~  408680.0"
      ],
      "metadata": {
        "id": "jGIcL7Uc-iQT"
      }
    },
    {
      "cell_type": "markdown",
      "source": [
        "##Ganancias por Orden"
      ],
      "metadata": {
        "id": "ZXhqFAGs17mY"
      }
    },
    {
      "cell_type": "markdown",
      "source": [
        "Ahora veamos las ganancias por orden... \n",
        "\n",
        ">Mas adelante sacaremos la mediana, la media y la moda de todas estas agregaciones que hemos estado haciendo. "
      ],
      "metadata": {
        "id": "ffMsdyvS-5Qk"
      }
    },
    {
      "cell_type": "code",
      "source": [
        "or_bikes.groupby('id_orden')['total'].sum().sort_values(ascending=False)"
      ],
      "metadata": {
        "id": "lHBqmu0o-113"
      },
      "execution_count": null,
      "outputs": []
    },
    {
      "cell_type": "markdown",
      "source": [
        "## Mejores cuidades para vender"
      ],
      "metadata": {
        "id": "N1jprUxkEVGS"
      }
    },
    {
      "cell_type": "code",
      "source": [
        "str_or_bks.groupby('ciudad')['total'].sum().sort_values(ascending=False).head(5)## SE USA HEAD  para no Mostrar tantos resultados"
      ],
      "metadata": {
        "id": "_DX5zzeLEUZj"
      },
      "execution_count": null,
      "outputs": []
    },
    {
      "cell_type": "markdown",
      "source": [
        "##Como podemos observar a continuacion las mejores ciudades son... con un total recaudado de...\n",
        ">*New York*   ~      12476315.0\n",
        "\n",
        ">Minneapolis    ~   8018850.0\n",
        "\n",
        ">Columbus        ~  5635205.0\n",
        "\n",
        ">Las Vegas        ~ 4763175.0\n",
        "\n",
        ">Albuquerque       ~ 3959000.0"
      ],
      "metadata": {
        "id": "l36G1SnGEsW1"
      }
    },
    {
      "cell_type": "markdown",
      "source": [
        "##Menores ganancias en estas ciudades\n",
        ">\n",
        "\n",
        ">"
      ],
      "metadata": {
        "id": "DxhMoFXYIuhf"
      }
    },
    {
      "cell_type": "markdown",
      "source": [
        ">Providence   ~      819110.0\n",
        "\n",
        ">Oklahoma City ~     763390.0\n",
        "\n",
        ">Phoenix        ~    737905.0\n",
        "\n",
        ">Wichita         ~   665510.0\n",
        "\n",
        ">Ann Arbor        ~  408680.0"
      ],
      "metadata": {
        "id": "zKCQJESVMo0G"
      }
    },
    {
      "cell_type": "markdown",
      "source": [
        "##Primeros Meses de Ventas"
      ],
      "metadata": {
        "id": "hbv1jBGYt0pT"
      }
    },
    {
      "cell_type": "markdown",
      "source": [
        "###Ventas totales por Mes"
      ],
      "metadata": {
        "id": "3j1ofqm8XTwm"
      }
    },
    {
      "cell_type": "code",
      "source": [
        "or_bikes.groupby([pd.Grouper(key='orden_date', axis=0, \n",
        "                      freq='M')])['total'].sum().head(5) ## SE USA HEAD  para no Mostrar tantos resultados"
      ],
      "metadata": {
        "id": "JYB7a0lxXXUx"
      },
      "execution_count": null,
      "outputs": []
    },
    {
      "cell_type": "markdown",
      "source": [
        "###Ventas totales de cada mes de cada tienda\n"
      ],
      "metadata": {
        "id": "sfjrp5t_Xji3"
      }
    },
    {
      "cell_type": "code",
      "source": [
        "or_bikes.groupby(['id_tienda',pd.Grouper(key='orden_date', axis=0, \n",
        "                      freq='M')])['total'].agg('sum')"
      ],
      "metadata": {
        "id": "oMNgt9arXi0U"
      },
      "execution_count": null,
      "outputs": []
    },
    {
      "cell_type": "markdown",
      "source": [
        "###Se decide tomar el promedio"
      ],
      "metadata": {
        "id": "RzKB-x97WQf4"
      }
    },
    {
      "cell_type": "code",
      "source": [
        "or_bikes.groupby([pd.Grouper(key='orden_date', axis=0, freq='M')])['total'].mean().head(5) ## SE USA HEAD  para no Mostrar tantos resultados"
      ],
      "metadata": {
        "id": "meXHRxdlz4wV"
      },
      "execution_count": null,
      "outputs": []
    },
    {
      "cell_type": "markdown",
      "source": [
        "##Aleacion y Categorias mas Vendidas"
      ],
      "metadata": {
        "id": "SgaH5Rr0t54u"
      }
    },
    {
      "cell_type": "code",
      "source": [
        "or_bikes.groupby(['aleacion','categoria_1','categoria_2'])['total'].count()"
      ],
      "metadata": {
        "id": "C0xq0ShNLVz3"
      },
      "execution_count": null,
      "outputs": []
    },
    {
      "cell_type": "markdown",
      "source": [
        "#PostWork 1\n",
        "> Obtener Promedio, Mediana, Media Truncada, Desviacion Estandar, Rango e Intercuantilico, Percentiles 25 y 75. "
      ],
      "metadata": {
        "id": "VRpcU00KVfz0"
      }
    },
    {
      "cell_type": "code",
      "source": [
        "from statistics import mode\n",
        "from scipy import stats\n",
        "import warnings\n",
        "warnings.filterwarnings('ignore')"
      ],
      "metadata": {
        "id": "m-m61vlCbeE4"
      },
      "execution_count": null,
      "outputs": []
    },
    {
      "cell_type": "markdown",
      "source": [
        "###Datos a trabajar, se tienen 13 agregaciones hasta el momento.\n",
        "> Se espera hacer mas divisiones en los datos."
      ],
      "metadata": {
        "id": "xFV6OpfNVwvg"
      }
    },
    {
      "cell_type": "code",
      "source": [
        "real_buyers = compradores[compradores['bicicleta_adquirida']=='Yes'].reset_index(drop=True)\n",
        "real_buyers.drop(columns='bicicleta_adquirida',inplace=True) #Para omitir redundancia se elimina la columna 'bicicleta_adquirida'\n",
        "real_buyers"
      ],
      "metadata": {
        "id": "Q6wDvlnLqbz7"
      },
      "execution_count": null,
      "outputs": []
    },
    {
      "cell_type": "markdown",
      "source": [
        "Dada la problematica que se tiene se dicide sacar estimados de locacion y variabilidad en la cantidad de items vendidos por cada tienda, bicicleta, asi como las ganancias obtenidas respectivamente entre otros datos de igual relevancia, asi como la edad de los clientes y compradores de bicicletas.\n",
        "\n",
        "> Esto con la finalidad de poder observar si hay valores atipicos en nuestros datos o no, y que tanto pueden presentar un problema a la hora de evaluar nuestros modelos de regresion. "
      ],
      "metadata": {
        "id": "qkcuDxNhzHkS"
      }
    },
    {
      "cell_type": "code",
      "source": [
        "items_sold_per_tienda = str_orders.groupby(['nombre_tienda'])['numero_items'].sum().sort_values(ascending=False)\n",
        "items_sold_per_bici = or_bikes.groupby('modelo')['numero_items'].sum().sort_values(ascending=False)\n",
        "gains_per_bici = or_bikes.groupby('modelo')['total'].sum().sort_values(ascending=False)\n",
        "gains_per_tienda = str_or_bks.groupby('nombre_tienda')['total'].sum().sort_values(ascending=False)\n",
        "gain_per_order = or_bikes.groupby('id_orden')['total'].sum().sort_values(ascending=False)\n",
        "gain_per_city = str_or_bks.groupby('ciudad')['total'].sum().sort_values(ascending=False)\n",
        "gain_per_month_from_all = or_bikes.groupby([pd.Grouper(key='orden_date', axis=0, freq='M')])['total'].sum()\n",
        "gain_per_month_per_tienda = or_bikes.groupby(['id_tienda',pd.Grouper(key='orden_date', axis=0, freq='M')])['total'].sum();\n",
        "or_bikes['precio']\n",
        "or_bikes['total'];"
      ],
      "metadata": {
        "id": "zWYzACpDvkxI"
      },
      "execution_count": null,
      "outputs": []
    },
    {
      "cell_type": "markdown",
      "source": [
        "##Funcion para los Estimados de Locación y Variabilidad"
      ],
      "metadata": {
        "id": "T8kH4T4Uaxew"
      }
    },
    {
      "cell_type": "code",
      "source": [
        "def all_in_one_variability(x):\n",
        "  print(f'{Fore.CYAN}Media {Style.RESET_ALL}~ {x.mean()}') #688.48   ~ Media\n",
        "  print(f'{Fore.CYAN}Mediana {Style.RESET_ALL}~ {x.median()}') #405          ~ Mediana\n",
        "  print(f'{Fore.CYAN}Media Truncada {Style.RESET_ALL}~ {stats.trim_mean(x,.1)}') #555.2  ~ Media Truncada de un 10% de los datos a los lados. \n",
        "  print(f'{Fore.CYAN}Desviacion Estandar {Style.RESET_ALL}~ {x.std()}')    #703.02  ~ Desviacion Estandar\n",
        "  print(f'{Fore.CYAN}Rango {Style.RESET_ALL}~ {x.max() - x.min()}') # 3343 ~ Rango\n",
        "  print(f'{Fore.CYAN}Quantil 75 {Style.RESET_ALL}~ {x.quantile(.75)}') # 657 ~ Quantile 75\n",
        "  print(f'{Fore.CYAN}Quantil 25 {Style.RESET_ALL}~ {x.quantile(.25)}') # 319 ~ Quantile 25\n",
        "  print(f'{Fore.CYAN}Rango Intercuantilico {Style.RESET_ALL}~ {x.quantile(.75) - x.quantile(.25)}') #338 ~ Rango intercuantilico"
      ],
      "metadata": {
        "id": "U_-8ukrHhjVU"
      },
      "execution_count": null,
      "outputs": []
    },
    {
      "cell_type": "markdown",
      "source": [
        "##Items Vendidos por Tienda"
      ],
      "metadata": {
        "id": "7Lv0XNAGjbHP"
      }
    },
    {
      "cell_type": "code",
      "source": [
        "all_in_one_variability(items_sold_per_tienda)"
      ],
      "metadata": {
        "id": "7F4VMNE-hOAp"
      },
      "execution_count": null,
      "outputs": []
    },
    {
      "cell_type": "markdown",
      "source": [
        "##Items vendidos por Bici"
      ],
      "metadata": {
        "id": "-paYPKi6jgCw"
      }
    },
    {
      "cell_type": "code",
      "source": [
        "all_in_one_variability(items_sold_per_bici)"
      ],
      "metadata": {
        "id": "xk477sPKi2cv"
      },
      "execution_count": null,
      "outputs": []
    },
    {
      "cell_type": "markdown",
      "source": [
        "##Ganancias por Bici"
      ],
      "metadata": {
        "id": "0xWwJ2m_lHr7"
      }
    },
    {
      "cell_type": "code",
      "source": [
        "all_in_one_variability(gains_per_bici)"
      ],
      "metadata": {
        "id": "UdkbHD_wjJs9"
      },
      "execution_count": null,
      "outputs": []
    },
    {
      "cell_type": "markdown",
      "source": [
        "##Ganancias por Tienda"
      ],
      "metadata": {
        "id": "1KhW3o29lK2G"
      }
    },
    {
      "cell_type": "code",
      "source": [
        "all_in_one_variability(gains_per_tienda)"
      ],
      "metadata": {
        "id": "g8DS2IpHi6-R"
      },
      "execution_count": null,
      "outputs": []
    },
    {
      "cell_type": "markdown",
      "source": [
        "##Ganancias por Orden"
      ],
      "metadata": {
        "id": "Yb1OYhAmlNGv"
      }
    },
    {
      "cell_type": "code",
      "source": [
        "all_in_one_variability(gain_per_order)"
      ],
      "metadata": {
        "id": "zB3VPDKnjWzu"
      },
      "execution_count": null,
      "outputs": []
    },
    {
      "cell_type": "markdown",
      "source": [
        "##Ganancias por Ciudad"
      ],
      "metadata": {
        "id": "sECx7J0FlTcu"
      }
    },
    {
      "cell_type": "code",
      "source": [
        "all_in_one_variability(gain_per_city)"
      ],
      "metadata": {
        "id": "VgC7OJNljWwS"
      },
      "execution_count": null,
      "outputs": []
    },
    {
      "cell_type": "markdown",
      "source": [
        "##Ganancias por Mes de Todas las tiendas"
      ],
      "metadata": {
        "id": "dBXaA07NlT9D"
      }
    },
    {
      "cell_type": "code",
      "source": [
        "all_in_one_variability(gain_per_month_from_all)"
      ],
      "metadata": {
        "id": "uTdrP8eFjWsC"
      },
      "execution_count": null,
      "outputs": []
    },
    {
      "cell_type": "markdown",
      "source": [
        "##Ganancias por Mes de Cada Tienda"
      ],
      "metadata": {
        "id": "HhqFwQmVllyS"
      }
    },
    {
      "cell_type": "code",
      "source": [
        "all_in_one_variability(gain_per_month_per_tienda)"
      ],
      "metadata": {
        "id": "tlBuQ75LjWne"
      },
      "execution_count": null,
      "outputs": []
    },
    {
      "cell_type": "markdown",
      "source": [
        "##Subtotal "
      ],
      "metadata": {
        "id": "Ue5IE0r9r4E6"
      }
    },
    {
      "cell_type": "code",
      "source": [
        "all_in_one_variability(or_bikes['total'])"
      ],
      "metadata": {
        "id": "ftYh5bL9r3rR"
      },
      "execution_count": null,
      "outputs": []
    },
    {
      "cell_type": "markdown",
      "source": [
        "##Edad de Clientes (No implica que hayan comprado bicicletas)"
      ],
      "metadata": {
        "id": "aJO5fveip9aC"
      }
    },
    {
      "cell_type": "code",
      "source": [
        "all_in_one_variability(compradores['edad'])"
      ],
      "metadata": {
        "id": "vMLcnzCdjWbk"
      },
      "execution_count": null,
      "outputs": []
    },
    {
      "cell_type": "markdown",
      "source": [
        "##Edad de Compradores de Bicicletas"
      ],
      "metadata": {
        "id": "hRnqIAZZqT4y"
      }
    },
    {
      "cell_type": "code",
      "source": [
        "all_in_one_variability(real_buyers['edad'])"
      ],
      "metadata": {
        "id": "sMchF0MRqTbK"
      },
      "execution_count": null,
      "outputs": []
    },
    {
      "cell_type": "markdown",
      "source": [
        "## Salario de Clientes (No implica que hayan comprado una bicicleta)"
      ],
      "metadata": {
        "id": "qjlpFiy5se_o"
      }
    },
    {
      "cell_type": "code",
      "source": [
        "all_in_one_variability(compradores['sueldo'])"
      ],
      "metadata": {
        "id": "ssN_H-xEsnHD"
      },
      "execution_count": null,
      "outputs": []
    },
    {
      "cell_type": "markdown",
      "source": [
        "##Salario de Compradores de Bicicletas"
      ],
      "metadata": {
        "id": "uaJ2aRgdsiXZ"
      }
    },
    {
      "cell_type": "code",
      "source": [
        "all_in_one_variability(real_buyers['sueldo'])"
      ],
      "metadata": {
        "id": "B37Eejn1sm0f"
      },
      "execution_count": null,
      "outputs": []
    },
    {
      "cell_type": "markdown",
      "source": [
        "#PostWork 2\n",
        ">Utilizar boxplots para visualizar distribuciones.\n",
        "\n",
        ">Filtrar valores atípicos usando el Score de Rango Intercuartílico.\n",
        "\n",
        ">Caracterizar nuestras distribuciones usando tablas de frecuencias, histogramas y gráficas de densidad."
      ],
      "metadata": {
        "id": "gKhG4ipYt984"
      }
    },
    {
      "cell_type": "markdown",
      "source": [
        "##Nota\n",
        "\n",
        "> Dado que son demasiados datos por analizar se deja una conclusion al final de todos nuestros graficos y hallazgos generales al final. No obstante se hace un analisis en los datos que se consideran mas relevantes para nuestros futuros modelos.\n",
        "\n",
        "> Raw ~ Se hace como referencia aquellos datos que no han sufrido cambios tales como el Score de Rango Intercuartílico (IQR-Score).\n",
        "\n",
        ">"
      ],
      "metadata": {
        "id": "cwN_zppuS4ss"
      }
    },
    {
      "cell_type": "code",
      "source": [
        "import seaborn as sns\n",
        "import matplotlib.pyplot as plt\n",
        "from scipy.stats import skew, kurtosis\n",
        "from colorama import Fore\n",
        "from colorama import Style"
      ],
      "metadata": {
        "id": "BuYeIV1-uvsn"
      },
      "execution_count": null,
      "outputs": []
    },
    {
      "cell_type": "code",
      "source": [
        "sns.color_palette(\"crest\", as_cmap=True)"
      ],
      "metadata": {
        "id": "QhUPPle5X4bu"
      },
      "execution_count": null,
      "outputs": []
    },
    {
      "cell_type": "markdown",
      "source": [
        "###Funcion para Graficos de Densidad, Histograma y Boxplot"
      ],
      "metadata": {
        "id": "0AuaAyG430oz"
      }
    },
    {
      "cell_type": "code",
      "source": [
        "def graficas_boxplots_density(xyz,i):\n",
        "  o=['Items Vendidos por Tienda','Demanda de Bicis','Ganancias por Bici','Ganancias Obtenidas por Tienda','Ganancias Obtenidas por Orden','Ganancias Obtenidas por Ciudad', 'Ventas por Mes Generales','Ventas por Mes de cada Tienda','SubTotal','Edad de Clientes','Edad de Compradores'\n",
        "  ,'Salario de Clientes','Salario de Compradores']\n",
        "  sns.set(style=\"white\")\n",
        "  fig, axes = plt.subplots(1, 3, figsize=(30, 6), sharex=False, sharey=False)\n",
        "  sns.boxplot(x=xyz, ax=axes[0]); # Boxplot sin Filtrar\n",
        "  axes[0].set_title(o[i], fontsize=20)\n",
        "  axes[0].set_xlabel('',fontsize = 16)\n",
        "  #axes[0].set_xlim(0,4000)\n",
        "  iqr = xyz.quantile(0.75) - xyz.quantile(0.25)\n",
        "  filtro_inferior = xyz > xyz.quantile(0.25) - (iqr * 1.5)\n",
        "  filtro_superior = xyz < xyz.quantile(0.75) + (iqr * 1.5)\n",
        "  df_filtrado = xyz[filtro_inferior & filtro_superior]\n",
        "  c = ' ~ Filtrado ~ IQR'\n",
        "  b = o[i] + c\n",
        "  axes[1].set_title(b,fontsize=20)\n",
        "  axes[1].set_xlabel('' ,fontsize = 16)\n",
        "  sns.boxplot(df_filtrado,ax=axes[1])\n",
        "  d = ' ~ Densidad e Histograma'\n",
        "  e = o[i] + d\n",
        "  sns.distplot(df_filtrado, bins=16,ax=axes[2]);\n",
        "  axes[2].set_title(e, fontsize=20)\n",
        "  axes[2].set_xlabel('', fontsize=16);\n",
        "  axes[2].set_xlim(xyz.min())\n",
        "  plt.ylabel('Frequency', fontsize=16);\n",
        "  #axes[2].set_xlim(0,1500)\n",
        "  print(f'{Fore.MAGENTA}Estimados de Locación y Variabilidad ~ Datos Sin filtrar{Style.RESET_ALL}')\n",
        "  all_in_one_variability(xyz)\n",
        "  print(f'{Fore.GREEN}Curtosis:{Style.RESET_ALL} {kurtosis(xyz)}')\n",
        "  print(f'{Fore.GREEN}Asimetría: {Style.RESET_ALL}{skew(xyz)}')\n",
        "  print(f'{Fore.MAGENTA}Estimados de Locación y Variabilidad ~ Datos Filtrados ~ Rango IQR{Style.RESET_ALL}')\n",
        "  all_in_one_variability(df_filtrado)#NorbsPR did this.\n",
        "  print(f'{Fore.GREEN}Curtosis:{Style.RESET_ALL} {kurtosis(df_filtrado)}')\n",
        "  print(f'{Fore.GREEN}Asimetría:{Style.RESET_ALL} {skew(df_filtrado)}')\n",
        "  \n"
      ],
      "metadata": {
        "id": "frUHw9ZzufSi"
      },
      "execution_count": null,
      "outputs": []
    },
    {
      "cell_type": "markdown",
      "source": [
        "###Items Vendidos por Tienda"
      ],
      "metadata": {
        "id": "QJm4dzKT39Sc"
      }
    },
    {
      "cell_type": "markdown",
      "source": [
        ">Como podemos observar a continuacion, se tienen valores atipicos que se extienden a la izquierda de nuestro grafico, por lo que afectan el valor de la media. Tras realizar el Score de Rango intercuantilico se obtienen datos mas reales de la distribucion.\n",
        "\n",
        ">Podemos observar tambien que los datos se acumulan en la cola derecha de nuestra distribucion.\n",
        "\n",
        "> Por otra parte se observa que la dispersion de nuestros datos ha disminuido a comparacion a cuando no estaban filtrados. Pasando de tener una Curtosis de 7.23 a una de 1.40. Como era de esperarse, la desviacion estandar de nuestros datos disminuye.\n",
        "\n",
        ">Finalmente se presenta una lijera asimetria en nuestra distribucion de 1.19.\n"
      ],
      "metadata": {
        "id": "ZGkK5cJkz-zz"
      }
    },
    {
      "cell_type": "code",
      "source": [
        "graficas_boxplots_density(items_sold_per_tienda,0)"
      ],
      "metadata": {
        "id": "wirNDF1nr8SA"
      },
      "execution_count": null,
      "outputs": []
    },
    {
      "cell_type": "markdown",
      "source": [
        "###Demanda de bicicletas (Número de Bicicletas Vendidas por Modelo)\n",
        "\n",
        ">En esta ocasion se observa que los valores no cambian tras realizar el  Score de Rango intercuantilico. Por lo que se trabajara con los datos originales.\n",
        "\n",
        ">Podemos observar en el boxplot que los datos se acumulan un poco hacia la cola derecha. Pero no de manera significativa. \n",
        "\n",
        ">Tras mirar el valor de la asimetria (0.05) se plantea que quiza la distribucion es normal, pero tras ver el grafico de histograma/densidad nos damos cuenta que nuestra distribucion es en realidad bimodal. \n",
        "\n",
        ">Por otro lado se tiene que la curtosis es de -1.31 lo que indica que los datos estan escarpados, por lo que hay una menor dispersion de los datos y con lo cual colas cortas.\n",
        ">Finalmente se tiene una desviacion estandar de 47.30"
      ],
      "metadata": {
        "id": "-rcCtT9s-NOs"
      }
    },
    {
      "cell_type": "code",
      "source": [
        "graficas_boxplots_density(items_sold_per_bici,1)"
      ],
      "metadata": {
        "id": "dx3R_NpYHaAu"
      },
      "execution_count": null,
      "outputs": []
    },
    {
      "cell_type": "markdown",
      "source": [
        "###Ganancias por Bicicleta"
      ],
      "metadata": {
        "id": "YBoDtbjAL3r-"
      }
    },
    {
      "cell_type": "code",
      "source": [
        "graficas_boxplots_density(gains_per_bici,2)"
      ],
      "metadata": {
        "id": "v1lhLg--uLwy"
      },
      "execution_count": null,
      "outputs": []
    },
    {
      "cell_type": "markdown",
      "source": [
        "###Ganancias Totales Por Tienda"
      ],
      "metadata": {
        "id": "1OIMFnyeL6E0"
      }
    },
    {
      "cell_type": "code",
      "source": [
        "graficas_boxplots_density(gains_per_tienda,3)"
      ],
      "metadata": {
        "id": "wufvpaZiu17z"
      },
      "execution_count": null,
      "outputs": []
    },
    {
      "cell_type": "markdown",
      "source": [
        "##Ganancias por Orden"
      ],
      "metadata": {
        "id": "_lW21CgBl2zZ"
      }
    },
    {
      "cell_type": "markdown",
      "source": [
        ">A continuacion se observa que gran parte de los datos estan concentrados hacia derecha de nuestro boxplot, de igual forma, se presentan demasiados valores atipivos concentrados a la izquierda de nuestro grafico (boxplot).\n",
        "\n",
        ">A partir de aqui, se toma la decision de aplicar un filtro IQR de los datos, con la finalidad de evitar sesgos en el futuro, dado que los modelos de regresion son muy sensibles a datos atipicos, en otras palabras, se tiene un menor performance.\n",
        "\n",
        ">Se tiene una asimetria postiva, lo que corrobora que los datos realmente estan cargados hacia la derecha de nuestro grafico.\n",
        "\n",
        ">Finalmente la desviacion estandar disminuye en nuestros datos, lo que implica que estos estan menos dispersos a comparacion de nuestros datos raw."
      ],
      "metadata": {
        "id": "Zg2TBrLamII2"
      }
    },
    {
      "cell_type": "code",
      "source": [
        "graficas_boxplots_density(gain_per_order,4)"
      ],
      "metadata": {
        "id": "-CoXTfdjvPgU"
      },
      "execution_count": null,
      "outputs": []
    },
    {
      "cell_type": "markdown",
      "source": [
        "###Ganancias por Ciudad"
      ],
      "metadata": {
        "id": "S3rQinkBy682"
      }
    },
    {
      "cell_type": "code",
      "source": [
        "graficas_boxplots_density(gain_per_city,5)"
      ],
      "metadata": {
        "colab": {
          "base_uri": "https://localhost:8080/",
          "height": 718
        },
        "id": "k5eYoZtAvehv",
        "outputId": "084b0c67-78cb-4e79-bff8-cb4071207250"
      },
      "execution_count": null,
      "outputs": [
        {
          "output_type": "stream",
          "name": "stdout",
          "text": [
            "\u001b[35mEstimados de Locación y Variabilidad ~ Datos Sin filtrar\u001b[0m\n",
            "\u001b[36mMedia \u001b[0m~ 2495311.896551724\n",
            "\u001b[36mMediana \u001b[0m~ 1784195.0\n",
            "\u001b[36mMedia Truncada \u001b[0m~ 2031787.6\n",
            "\u001b[36mDesviacion Estandar \u001b[0m~ 2527327.7547375625\n",
            "\u001b[36mRango \u001b[0m~ 12067635.0\n",
            "\u001b[36mQuantil 75 \u001b[0m~ 2256410.0\n",
            "\u001b[36mQuantil 25 \u001b[0m~ 969910.0\n",
            "\u001b[36mRango Intercuantilico \u001b[0m~ 1286500.0\n",
            "\u001b[32mCurtosis:\u001b[0m 7.031233624707802\n",
            "\u001b[32mAsimetría: \u001b[0m2.6115810799010584\n",
            "\u001b[35mEstimados de Locación y Variabilidad ~ Datos Filtrados ~ Rango IQR\u001b[0m\n",
            "\u001b[36mMedia \u001b[0m~ 1658820.0\n",
            "\u001b[36mMediana \u001b[0m~ 1563795.0\n",
            "\u001b[36mMedia Truncada \u001b[0m~ 1597420.238095238\n",
            "\u001b[36mDesviacion Estandar \u001b[0m~ 822136.4703979099\n",
            "\u001b[36mRango \u001b[0m~ 3550320.0\n",
            "\u001b[36mQuantil 75 \u001b[0m~ 2159010.0\n",
            "\u001b[36mQuantil 25 \u001b[0m~ 958275.0\n",
            "\u001b[36mRango Intercuantilico \u001b[0m~ 1200735.0\n",
            "\u001b[32mCurtosis:\u001b[0m 0.6023836657968378\n",
            "\u001b[32mAsimetría:\u001b[0m 0.7502937263092925\n"
          ]
        },
        {
          "output_type": "display_data",
          "data": {
            "text/plain": [
              "<Figure size 2160x432 with 3 Axes>"
            ],
            "image/png": "[encoded data removed]"
          },
          "metadata": {}
        }
      ]
    },
    {
      "cell_type": "markdown",
      "source": [
        "###Ganancias por Mes Generales"
      ],
      "metadata": {
        "id": "CL6SBmRxzA0E"
      }
    },
    {
      "cell_type": "code",
      "source": [
        "graficas_boxplots_density(gain_per_month_from_all,6)"
      ],
      "metadata": {
        "colab": {
          "base_uri": "https://localhost:8080/",
          "height": 724
        },
        "id": "LpeoPgXivhrz",
        "outputId": "aca3f5b7-9d31-4d73-957b-16322d27aea1"
      },
      "execution_count": null,
      "outputs": [
        {
          "output_type": "stream",
          "name": "stdout",
          "text": [
            "\u001b[35mEstimados de Locación y Variabilidad ~ Datos Sin filtrar\u001b[0m\n",
            "\u001b[36mMedia \u001b[0m~ 1221621.1666666667\n",
            "\u001b[36mMediana \u001b[0m~ 1108715.0\n",
            "\u001b[36mMedia Truncada \u001b[0m~ 1185452.0833333333\n",
            "\u001b[36mDesviacion Estandar \u001b[0m~ 513144.31856353977\n",
            "\u001b[36mRango \u001b[0m~ 2165340.0\n",
            "\u001b[36mQuantil 75 \u001b[0m~ 1522216.25\n",
            "\u001b[36mQuantil 25 \u001b[0m~ 860363.75\n",
            "\u001b[36mRango Intercuantilico \u001b[0m~ 661852.5\n",
            "\u001b[32mCurtosis:\u001b[0m -0.49846149088064484\n",
            "\u001b[32mAsimetría: \u001b[0m0.611685483389598\n",
            "\u001b[35mEstimados de Locación y Variabilidad ~ Datos Filtrados ~ Rango IQR\u001b[0m\n",
            "\u001b[36mMedia \u001b[0m~ 1221621.1666666667\n",
            "\u001b[36mMediana \u001b[0m~ 1108715.0\n",
            "\u001b[36mMedia Truncada \u001b[0m~ 1185452.0833333333\n",
            "\u001b[36mDesviacion Estandar \u001b[0m~ 513144.31856353977\n",
            "\u001b[36mRango \u001b[0m~ 2165340.0\n",
            "\u001b[36mQuantil 75 \u001b[0m~ 1522216.25\n",
            "\u001b[36mQuantil 25 \u001b[0m~ 860363.75\n",
            "\u001b[36mRango Intercuantilico \u001b[0m~ 661852.5\n",
            "\u001b[32mCurtosis:\u001b[0m -0.49846149088064484\n",
            "\u001b[32mAsimetría:\u001b[0m 0.611685483389598\n"
          ]
        },
        {
          "output_type": "display_data",
          "data": {
            "text/plain": [
              "<Figure size 2160x432 with 3 Axes>"
            ],
            "image/png": "[encoded data removed]"
          },
          "metadata": {}
        }
      ]
    },
    {
      "cell_type": "markdown",
      "source": [
        "###Ganancias por Tienda"
      ],
      "metadata": {
        "id": "2pGMFxFSzGZr"
      }
    },
    {
      "cell_type": "code",
      "source": [
        "graficas_boxplots_density(gain_per_month_per_tienda,7)"
      ],
      "metadata": {
        "colab": {
          "base_uri": "https://localhost:8080/",
          "height": 719
        },
        "id": "9j8tGdvfwzmy",
        "outputId": "2955f008-7ffc-4316-e7b0-32bc220d5bb6"
      },
      "execution_count": null,
      "outputs": [
        {
          "output_type": "stream",
          "name": "stdout",
          "text": [
            "\u001b[35mEstimados de Locación y Variabilidad ~ Datos Sin filtrar\u001b[0m\n",
            "\u001b[36mMedia \u001b[0m~ 73665.59798994975\n",
            "\u001b[36mMediana \u001b[0m~ 47250.0\n",
            "\u001b[36mMedia Truncada \u001b[0m~ 59049.23462986198\n",
            "\u001b[36mDesviacion Estandar \u001b[0m~ 82340.32409519535\n",
            "\u001b[36mRango \u001b[0m~ 632715.0\n",
            "\u001b[36mQuantil 75 \u001b[0m~ 107965.0\n",
            "\u001b[36mQuantil 25 \u001b[0m~ 13725.0\n",
            "\u001b[36mRango Intercuantilico \u001b[0m~ 94240.0\n",
            "\u001b[32mCurtosis:\u001b[0m 7.31178814592883\n",
            "\u001b[32mAsimetría: \u001b[0m2.2051532670797527\n",
            "\u001b[35mEstimados de Locación y Variabilidad ~ Datos Filtrados ~ Rango IQR\u001b[0m\n",
            "\u001b[36mMedia \u001b[0m~ 61874.6537250787\n",
            "\u001b[36mMediana \u001b[0m~ 44020.0\n",
            "\u001b[36mMedia Truncada \u001b[0m~ 53614.94102228047\n",
            "\u001b[36mDesviacion Estandar \u001b[0m~ 58437.93117205539\n",
            "\u001b[36mRango \u001b[0m~ 248055.0\n",
            "\u001b[36mQuantil 75 \u001b[0m~ 97500.0\n",
            "\u001b[36mQuantil 25 \u001b[0m~ 12230.0\n",
            "\u001b[36mRango Intercuantilico \u001b[0m~ 85270.0\n",
            "\u001b[32mCurtosis:\u001b[0m 0.3838989426925008\n",
            "\u001b[32mAsimetría:\u001b[0m 1.0528982372863764\n"
          ]
        },
        {
          "output_type": "display_data",
          "data": {
            "text/plain": [
              "<Figure size 2160x432 with 3 Axes>"
            ],
            "image/png": "[encoded data removed]"
          },
          "metadata": {}
        }
      ]
    },
    {
      "cell_type": "markdown",
      "source": [
        "###Ganancias Totales Recaudadas por cada Bicicleta"
      ],
      "metadata": {
        "id": "zbuGUhG1SRQh"
      }
    },
    {
      "cell_type": "markdown",
      "source": [
        ">Como se observa a continuacion, se presentan demasiados valores atipicos, lo cual puede afectar gravemente nuestro modelos al momento de predecir nuevos valores en el tiempo.\n",
        "\n",
        ">Claramente puede observarse el cambio dastrico, donde en un principio se tiene una curtosis de 48.48 mientras que en los datos filtrados se tiene una de .046, esto indica que se tiene una distribucion semi normal, puesto que como podemos observar, realmente se tiene una dispersion positiva, con un valor de 1.09, lo que nos indica que hay mas datos concentrados en la cola derecha de nuestros graficos.\n",
        "\n",
        ">Finalmente, los valores con diferencias mas significativas son la desviacion estandar de 2817 y rango de 90,600."
      ],
      "metadata": {
        "id": "MG8ZrIfpzK_E"
      }
    },
    {
      "cell_type": "code",
      "source": [
        "graficas_boxplots_density(or_bikes['total'],8)"
      ],
      "metadata": {
        "colab": {
          "base_uri": "https://localhost:8080/",
          "height": 728
        },
        "id": "9Qm-ISKFzot8",
        "outputId": "0c63255b-7480-4b68-e06e-30eee6859c8b"
      },
      "execution_count": null,
      "outputs": [
        {
          "output_type": "stream",
          "name": "stdout",
          "text": [
            "\u001b[35mEstimados de Locación y Variabilidad ~ Datos Sin filtrar\u001b[0m\n",
            "\u001b[36mMedia \u001b[0m~ 4743.545819311416\n",
            "\u001b[36mMediana \u001b[0m~ 3200.0\n",
            "\u001b[36mMedia Truncada \u001b[0m~ 3786.4415143180713\n",
            "\u001b[36mDesviacion Estandar \u001b[0m~ 5430.5235834880605\n",
            "\u001b[36mRango \u001b[0m~ 101905.0\n",
            "\u001b[36mQuantil 75 \u001b[0m~ 5865.0\n",
            "\u001b[36mQuantil 25 \u001b[0m~ 1950.0\n",
            "\u001b[36mRango Intercuantilico \u001b[0m~ 3915.0\n",
            "\u001b[32mCurtosis:\u001b[0m 48.48418754246366\n",
            "\u001b[32mAsimetría: \u001b[0m5.23855602511539\n",
            "\u001b[35mEstimados de Locación y Variabilidad ~ Datos Filtrados ~ Rango IQR\u001b[0m\n",
            "\u001b[36mMedia \u001b[0m~ 3727.750328696976\n",
            "\u001b[36mMediana \u001b[0m~ 2820.0\n",
            "\u001b[36mMedia Truncada \u001b[0m~ 3385.733068073696\n",
            "\u001b[36mDesviacion Estandar \u001b[0m~ 2613.401803602288\n",
            "\u001b[36mRango \u001b[0m~ 11305.0\n",
            "\u001b[36mQuantil 75 \u001b[0m~ 5330.0\n",
            "\u001b[36mQuantil 25 \u001b[0m~ 1840.0\n",
            "\u001b[36mRango Intercuantilico \u001b[0m~ 3490.0\n",
            "\u001b[32mCurtosis:\u001b[0m 0.46918673314780346\n",
            "\u001b[32mAsimetría:\u001b[0m 1.090231251226898\n"
          ]
        },
        {
          "output_type": "display_data",
          "data": {
            "text/plain": [
              "<Figure size 2160x432 with 3 Axes>"
            ],
            "image/png": "[encoded data removed]"
          },
          "metadata": {}
        }
      ]
    },
    {
      "cell_type": "markdown",
      "source": [
        "###Edad de Clientes (No implica que hayan adquirido una bicicleta)"
      ],
      "metadata": {
        "id": "nLQiwGsAlHuv"
      }
    },
    {
      "cell_type": "markdown",
      "source": [
        "Como se observa, los datos estan cargados hacia la derecha, presentando valores atipicos. Cabe mencionar que no son demasiados, de igual forma se hará un analisis mas profundo.\n",
        "\n",
        "> "
      ],
      "metadata": {
        "id": "IotbSUnylQNG"
      }
    },
    {
      "cell_type": "code",
      "source": [
        "graficas_boxplots_density(compradores['edad'],9)"
      ],
      "metadata": {
        "colab": {
          "base_uri": "https://localhost:8080/",
          "height": 728
        },
        "id": "PFrQOdQTKt7X",
        "outputId": "812b29fa-97e5-45ee-f6b0-f2eae7c678c9"
      },
      "execution_count": null,
      "outputs": [
        {
          "output_type": "stream",
          "name": "stdout",
          "text": [
            "\u001b[35mEstimados de Locación y Variabilidad ~ Datos Sin filtrar\u001b[0m\n",
            "\u001b[36mMedia \u001b[0m~ 44.21494370522006\n",
            "\u001b[36mMediana \u001b[0m~ 43.0\n",
            "\u001b[36mMedia Truncada \u001b[0m~ 43.51979565772669\n",
            "\u001b[36mDesviacion Estandar \u001b[0m~ 11.422891069746523\n",
            "\u001b[36mRango \u001b[0m~ 64\n",
            "\u001b[36mQuantil 75 \u001b[0m~ 52.0\n",
            "\u001b[36mQuantil 25 \u001b[0m~ 35.0\n",
            "\u001b[36mRango Intercuantilico \u001b[0m~ 17.0\n",
            "\u001b[32mCurtosis:\u001b[0m -0.293753961169013\n",
            "\u001b[32mAsimetría: \u001b[0m0.5167440305592742\n",
            "\u001b[35mEstimados de Locación y Variabilidad ~ Datos Filtrados ~ Rango IQR\u001b[0m\n",
            "\u001b[36mMedia \u001b[0m~ 44.06269270298047\n",
            "\u001b[36mMediana \u001b[0m~ 43.0\n",
            "\u001b[36mMedia Truncada \u001b[0m~ 43.43132220795892\n",
            "\u001b[36mDesviacion Estandar \u001b[0m~ 11.192258115013455\n",
            "\u001b[36mRango \u001b[0m~ 49\n",
            "\u001b[36mQuantil 75 \u001b[0m~ 52.0\n",
            "\u001b[36mQuantil 25 \u001b[0m~ 35.0\n",
            "\u001b[36mRango Intercuantilico \u001b[0m~ 17.0\n",
            "\u001b[32mCurtosis:\u001b[0m -0.5716312910593171\n",
            "\u001b[32mAsimetría:\u001b[0m 0.4362294430828557\n"
          ]
        },
        {
          "output_type": "display_data",
          "data": {
            "text/plain": [
              "<Figure size 2160x432 with 3 Axes>"
            ],
            "image/png": "[encoded data removed]"
          },
          "metadata": {}
        }
      ]
    },
    {
      "cell_type": "markdown",
      "source": [
        "###Edad de Compradores de Bicicletas "
      ],
      "metadata": {
        "id": "raFoRG_BONod"
      }
    },
    {
      "cell_type": "code",
      "source": [
        "graficas_boxplots_density(real_buyers['edad'],10)"
      ],
      "metadata": {
        "colab": {
          "base_uri": "https://localhost:8080/",
          "height": 728
        },
        "id": "I4LnHDE6aoA5",
        "outputId": "e11bf453-8918-4fad-f206-4d9e0e781bde"
      },
      "execution_count": null,
      "outputs": [
        {
          "output_type": "stream",
          "name": "stdout",
          "text": [
            "\u001b[35mEstimados de Locación y Variabilidad ~ Datos Sin filtrar\u001b[0m\n",
            "\u001b[36mMedia \u001b[0m~ 42.94882729211088\n",
            "\u001b[36mMediana \u001b[0m~ 41.0\n",
            "\u001b[36mMedia Truncada \u001b[0m~ 42.244031830238725\n",
            "\u001b[36mDesviacion Estandar \u001b[0m~ 10.151709453013265\n",
            "\u001b[36mRango \u001b[0m~ 53\n",
            "\u001b[36mQuantil 75 \u001b[0m~ 50.0\n",
            "\u001b[36mQuantil 25 \u001b[0m~ 36.0\n",
            "\u001b[36mRango Intercuantilico \u001b[0m~ 14.0\n",
            "\u001b[32mCurtosis:\u001b[0m 0.07974383595770762\n",
            "\u001b[32mAsimetría: \u001b[0m0.6508213514415992\n",
            "\u001b[35mEstimados de Locación y Variabilidad ~ Datos Filtrados ~ Rango IQR\u001b[0m\n",
            "\u001b[36mMedia \u001b[0m~ 42.61422413793103\n",
            "\u001b[36mMediana \u001b[0m~ 41.0\n",
            "\u001b[36mMedia Truncada \u001b[0m~ 42.04838709677419\n",
            "\u001b[36mDesviacion Estandar \u001b[0m~ 9.674613985489456\n",
            "\u001b[36mRango \u001b[0m~ 45\n",
            "\u001b[36mQuantil 75 \u001b[0m~ 49.0\n",
            "\u001b[36mQuantil 25 \u001b[0m~ 36.0\n",
            "\u001b[36mRango Intercuantilico \u001b[0m~ 13.0\n",
            "\u001b[32mCurtosis:\u001b[0m -0.3452502039211973\n",
            "\u001b[32mAsimetría:\u001b[0m 0.5015192349211411\n"
          ]
        },
        {
          "output_type": "display_data",
          "data": {
            "text/plain": [
              "<Figure size 2160x432 with 3 Axes>"
            ],
            "image/png": "[encoded data removed]"
          },
          "metadata": {}
        }
      ]
    },
    {
      "cell_type": "markdown",
      "source": [
        "###Salario de Clientes (No necesariamente compraron una bicicleta)"
      ],
      "metadata": {
        "id": "EXCtLYSYM8hn"
      }
    },
    {
      "cell_type": "markdown",
      "source": [
        "> De primeras se observa en el boxplot que hay valores atipicos que muy probablemente afecten a la distribucion de nuestros datos. \n",
        "\n",
        "> Mas detalladamente se observa una disminucion en los valores de locacion y variabilidad. Los mas significativos son la mediana y la desviacion estandar. Donde se tienen diferencias de 10000 y 4669 respectivamente.\n",
        "\n",
        ">Por otra parte se observa una distribucion bimodal, donde los datos estan mas cargados hacia la derecha. Como era de esperarse se tiene una menor dispercion de los datos tras aplicar IQR~Score. Donde la desviacion estandar disminuye significativamente."
      ],
      "metadata": {
        "id": "S14Oo5WMNJbF"
      }
    },
    {
      "cell_type": "code",
      "source": [
        "graficas_boxplots_density(compradores['sueldo'],11)"
      ],
      "metadata": {
        "colab": {
          "base_uri": "https://localhost:8080/",
          "height": 728
        },
        "id": "6DzssqPDaoZQ",
        "outputId": "a92c7248-22f8-43e1-a358-313d4400883e"
      },
      "execution_count": null,
      "outputs": [
        {
          "output_type": "stream",
          "name": "stdout",
          "text": [
            "\u001b[35mEstimados de Locación y Variabilidad ~ Datos Sin filtrar\u001b[0m\n",
            "\u001b[36mMedia \u001b[0m~ 56161.71954964176\n",
            "\u001b[36mMediana \u001b[0m~ 60000.0\n",
            "\u001b[36mMedia Truncada \u001b[0m~ 53524.904214559385\n",
            "\u001b[36mDesviacion Estandar \u001b[0m~ 31249.695872473487\n",
            "\u001b[36mRango \u001b[0m~ 160000.0\n",
            "\u001b[36mQuantil 75 \u001b[0m~ 70000.0\n",
            "\u001b[36mQuantil 25 \u001b[0m~ 30000.0\n",
            "\u001b[36mRango Intercuantilico \u001b[0m~ 40000.0\n",
            "\u001b[32mCurtosis:\u001b[0m 0.4942871050350126\n",
            "\u001b[32mAsimetría: \u001b[0m0.7594170325729712\n",
            "\u001b[35mEstimados de Locación y Variabilidad ~ Datos Filtrados ~ Rango IQR\u001b[0m\n",
            "\u001b[36mMedia \u001b[0m~ 52534.75935828877\n",
            "\u001b[36mMediana \u001b[0m~ 50000.0\n",
            "\u001b[36mMedia Truncada \u001b[0m~ 51401.86915887851\n",
            "\u001b[36mDesviacion Estandar \u001b[0m~ 26580.503157298106\n",
            "\u001b[36mRango \u001b[0m~ 110000.0\n",
            "\u001b[36mQuantil 75 \u001b[0m~ 70000.0\n",
            "\u001b[36mQuantil 25 \u001b[0m~ 30000.0\n",
            "\u001b[36mRango Intercuantilico \u001b[0m~ 40000.0\n",
            "\u001b[32mCurtosis:\u001b[0m -0.4925853904421462\n",
            "\u001b[32mAsimetría:\u001b[0m 0.3342536460850532\n"
          ]
        },
        {
          "output_type": "display_data",
          "data": {
            "text/plain": [
              "<Figure size 2160x432 with 3 Axes>"
            ],
            "image/png": "[encoded data removed]"
          },
          "metadata": {}
        }
      ]
    },
    {
      "cell_type": "markdown",
      "source": [
        "###Salario de Compradores"
      ],
      "metadata": {
        "id": "xXAZMwqJ-sE2"
      }
    },
    {
      "cell_type": "markdown",
      "source": [
        ">Se puede observar que nuestra distribucion de los datos es bimodal, donde ciertamente era de esperarse tras analizar los datos anteriores.\n",
        "\n",
        ">Nuevamente los datos estan mas cargados hacia la cola derecha. Tras ver el primer boxplost se observan valores atipicos. Por lo que el IQR~Rango nos vendra bien. Donde estos desaparecen, y con lo cual la dispersion de nuestros datos es menor. Obteniendo una Curtosis final de -.65 aproximadamente. "
      ],
      "metadata": {
        "id": "CWYJ-iYQ-ujO"
      }
    },
    {
      "cell_type": "code",
      "source": [
        "graficas_boxplots_density(real_buyers['sueldo'],12)"
      ],
      "metadata": {
        "colab": {
          "base_uri": "https://localhost:8080/",
          "height": 726
        },
        "id": "k15ryg2eaoo0",
        "outputId": "c6cfab57-bdab-450d-9503-43e997656d8f"
      },
      "execution_count": null,
      "outputs": [
        {
          "output_type": "stream",
          "name": "stdout",
          "text": [
            "\u001b[35mEstimados de Locación y Variabilidad ~ Datos Sin filtrar\u001b[0m\n",
            "\u001b[36mMedia \u001b[0m~ 57846.481876332626\n",
            "\u001b[36mMediana \u001b[0m~ 60000.0\n",
            "\u001b[36mMedia Truncada \u001b[0m~ 55119.36339522547\n",
            "\u001b[36mDesviacion Estandar \u001b[0m~ 31123.030837207913\n",
            "\u001b[36mRango \u001b[0m~ 160000.0\n",
            "\u001b[36mQuantil 75 \u001b[0m~ 70000.0\n",
            "\u001b[36mQuantil 25 \u001b[0m~ 40000.0\n",
            "\u001b[36mRango Intercuantilico \u001b[0m~ 30000.0\n",
            "\u001b[32mCurtosis:\u001b[0m 0.7026298388925971\n",
            "\u001b[32mAsimetría: \u001b[0m0.8229446331564987\n",
            "\u001b[35mEstimados de Locación y Variabilidad ~ Datos Filtrados ~ Rango IQR\u001b[0m\n",
            "\u001b[36mMedia \u001b[0m~ 52511.41552511416\n",
            "\u001b[36mMediana \u001b[0m~ 60000.0\n",
            "\u001b[36mMedia Truncada \u001b[0m~ 51931.818181818184\n",
            "\u001b[36mDesviacion Estandar \u001b[0m~ 24327.920081144235\n",
            "\u001b[36mRango \u001b[0m~ 100000.0\n",
            "\u001b[36mQuantil 75 \u001b[0m~ 70000.0\n",
            "\u001b[36mQuantil 25 \u001b[0m~ 30000.0\n",
            "\u001b[36mRango Intercuantilico \u001b[0m~ 40000.0\n",
            "\u001b[32mCurtosis:\u001b[0m -0.654583100137395\n",
            "\u001b[32mAsimetría:\u001b[0m 0.16745210850266964\n"
          ]
        },
        {
          "output_type": "display_data",
          "data": {
            "text/plain": [
              "<Figure size 2160x432 with 3 Axes>"
            ],
            "image/png": "[encoded data removed]"
          },
          "metadata": {}
        }
      ]
    },
    {
      "cell_type": "markdown",
      "source": [
        "##Conclusion General"
      ],
      "metadata": {
        "id": "NxMqiZBUShqe"
      }
    },
    {
      "cell_type": "markdown",
      "source": [
        ">Cuando se hace una primera investigacion de nuestros datos por medio de un boxplot tendremos la posibilidad de observar valores atipicos que nos daran una idea de que tanto estos afectaran los valores de locacion y variabilidad, los cuales juegan un papel importante en el performance(desempeño) de nuestros modelos.\n",
        "\n",
        "> Donde si se tienen demasiados, o por el contario valores atipicos bastante alejados de la media y mediana, es recomendable hacer un filtro Intercuartílico de nuestros datos, o mejor conocido como Score de Rango Intercuartílico.\n",
        "\n",
        "> Nunca hay que dejarse llevar por los valores de simetria obtenidos, dado que al realizar un grafico de histograma/densidad podremos darnos cuenta que aun que nuestro valor de simetria nos indique que es una distribucion normal, quiza sea en realidad bimodal o segun sea el caso, multimodal."
      ],
      "metadata": {
        "id": "_pEgYo2KSkWy"
      }
    },
    {
      "cell_type": "markdown",
      "source": [
        "#PostWork3\n",
        ">Agregar anotaciones y títulos a las gráficas que hemos hecho hasta el momento.\n",
        "Realizar gráficas de barras para explorar la distribución de variables categóricas.\n",
        "\n",
        ">Realizar tablas de contingencia y gráficas con múltiples axes para explorar dos o más variables categóricas.\n",
        "\n",
        ">Usar boxplots y violinplots para explorar variables numéricas segmentadas por variables categóricas."
      ],
      "metadata": {
        "id": "5V2Xl-iJnbn8"
      }
    },
    {
      "cell_type": "markdown",
      "source": [
        "###Datos a trabajar"
      ],
      "metadata": {
        "id": "Xh-LtS0ioQwE"
      }
    },
    {
      "cell_type": "code",
      "source": [
        "educacion = compradores['educacion'].value_counts()\n",
        "estado_civ = compradores['estado_civil'].value_counts()\n",
        "dist_viaje = compradores['distancia_d_viaje'].value_counts()\n",
        "autos = compradores['autos'].value_counts()\n",
        "profesion = compradores['profesion'].value_counts()# Grupo 1\n",
        "modelo_bike = str_or_bks['modelo'].value_counts()\n",
        "cat_1_bks = str_or_bks['categoria_1'].value_counts()\n",
        "cat_2_bks = str_or_bks['categoria_2'].value_counts()\n",
        "aleacion = str_or_bks['aleacion'].value_counts()\n",
        "tiendas = str_or_bks['nombre_tienda'].value_counts() # Grupo 2  \n",
        "# Se tienen 10 datos Categoricos, Divididos en dos Grupos. "
      ],
      "metadata": {
        "id": "gSE-xPsRn1MH"
      },
      "execution_count": null,
      "outputs": []
    },
    {
      "cell_type": "markdown",
      "source": [
        "###Tablas de Contingencia"
      ],
      "metadata": {
        "id": "W7CYJHC0zJGG"
      }
    },
    {
      "cell_type": "code",
      "source": [
        "def tablas_conting_2(x,y):#Luego meto el return \n",
        "  return pd.crosstab(x,y)\n",
        "\n",
        "def tablas_conting_3(x,y,z):\n",
        "  return pd.crosstab(x,[y,z])"
      ],
      "metadata": {
        "id": "Bl9vfpVz13_J"
      },
      "execution_count": null,
      "outputs": []
    },
    {
      "cell_type": "markdown",
      "source": [
        "##Funcion para Graficar Tablas de Contingencia"
      ],
      "metadata": {
        "id": "imgjmucG9cBP"
      }
    },
    {
      "cell_type": "code",
      "source": [
        "def graph_conting(o,i):\n",
        "  sizess = o.shape;\n",
        "  if(i==1):\n",
        "    names = o.index;                        #(Cantidad de filas   , #Cantidad de Columnas)\n",
        "    fig, axes = plt.subplots(1,sizess[0] , figsize=(14, 6), sharex=True, sharey=True);\n",
        "    #fig.suptitle('Ratings de restaurantes separados por rango de precio', fontsize=15);\n",
        "    j=0\n",
        "    for i in names:\n",
        "      j\n",
        "      sns.barplot(o.columns, o.loc[i], ax=axes[j]);\n",
        "      axes[j].set_xticklabels(axes[j].get_xticklabels(), rotation=50,fontsize=13);\n",
        "      axes[j].set_ylabel(names[j],fontsize=15)\n",
        "      axes[j].set_xlabel('')\n",
        "      j += 1\n",
        "  if(i==2):\n",
        "    names = o.index;                        #(Cantidad de filas   , #Cantidad de Columnas)\n",
        "    fig, axes = plt.subplots(1,sizess[0] , figsize=(20, 4), sharex=True, sharey=True);\n",
        "    j=0\n",
        "    for i in names:\n",
        "      j\n",
        "      sns.barplot(o.columns, o.loc[i], ax=axes[j]);\n",
        "      axes[j].set_xticklabels(axes[j].get_xticklabels(), rotation=50,fontsize=13);\n",
        "      axes[j].set_ylabel(names[j],fontsize=15)\n",
        "      axes[j].set_xlabel('')\n",
        "      j += 1\n",
        "  else:\n",
        "    names = o.columns;\n",
        "    title = o.columns.names;\n",
        "    c= title[0] +' ~ ' + title[1]\n",
        "    fig, axes = plt.subplots(2,sizess[0] , figsize=(30, 10), sharex=True, sharey=True);\n",
        "    fig.suptitle(c, fontsize=15);\n",
        "    r=0\n",
        "    j=0\n",
        "    for i in names:\n",
        "      sns.barplot(o.index, o[i], ax=axes[r,j]);\n",
        "      axes[r, j].set(xlabel='', ylabel='');\n",
        "      axes[r,j].set_title(i,fontsize=14)\n",
        "      axes[r,j].set_xticklabels(axes[r,j].get_xticklabels(), rotation=50,fontsize=13);\n",
        "      j += 1\n",
        "      if(j==(sizess[1]/2)):\n",
        "        r=1\n",
        "        j=0"
      ],
      "metadata": {
        "id": "XkXvy_oV9bwp"
      },
      "execution_count": null,
      "outputs": []
    },
    {
      "cell_type": "markdown",
      "source": [
        "##Educacion y Estado Civil"
      ],
      "metadata": {
        "id": "3ITV4Z9_-i0U"
      }
    },
    {
      "cell_type": "markdown",
      "source": [
        "Se observa que aquellos que estan casados tienen un mejor escolaridad que aquellos que estan solteros."
      ],
      "metadata": {
        "id": "6xTdp_huPHtj"
      }
    },
    {
      "cell_type": "code",
      "source": [
        "o=pd.crosstab(compradores['estado_civil'],compradores['educacion'])\n",
        "#o.index\n",
        "graph_conting(o,2)"
      ],
      "metadata": {
        "id": "QXanp-xUzOFj"
      },
      "execution_count": null,
      "outputs": []
    },
    {
      "cell_type": "markdown",
      "source": [
        "## Profesion , Educacion y Compra de Bicicleta"
      ],
      "metadata": {
        "id": "YAK4PJEg-sle"
      }
    },
    {
      "cell_type": "code",
      "source": [
        "pd.crosstab(compradores['profesion'],[compradores['bicicleta_adquirida'],compradores['educacion']], margins=True, margins_name='total') #No me interesan mucho estos datos, quiza si les agrego un tercer nivel. "
      ],
      "metadata": {
        "id": "6RicyzMQ0-l0"
      },
      "execution_count": null,
      "outputs": []
    },
    {
      "cell_type": "markdown",
      "source": [
        ">Se puede observar a continuacion que aquellos que adquirieron una bicicleta en gran medida fueron los que tienen una profesion \"profesional\". Mientras que el grupo laboral que no adquirio una bicicleta se conforma por aqueños que tienen una vida laboral de \"management.\n"
      ],
      "metadata": {
        "id": "rjpNnYRrPaQi"
      }
    },
    {
      "cell_type": "markdown",
      "source": [
        ">Como era de esperarse, entre mayor es la escolaridad y mejor la profesion laboral, mayor es la probabilidad de que los consumidores compren una bicicleta. "
      ],
      "metadata": {
        "id": "kNrw4UMPi3xb"
      }
    },
    {
      "cell_type": "code",
      "source": [
        "o=pd.crosstab(compradores['profesion'],[compradores['bicicleta_adquirida'],compradores['educacion']]) #No me interesan mucho estos datos, quiza si les agrego un tercer nivel. \n",
        "graph_conting(o,3)"
      ],
      "metadata": {
        "id": "-UYous05AxzL"
      },
      "execution_count": null,
      "outputs": []
    },
    {
      "cell_type": "markdown",
      "source": [
        "## Autos ~ Adquisicion de Bicicleta ~ Distancia de Viaje"
      ],
      "metadata": {
        "id": "xEcPKhIZHbOU"
      }
    },
    {
      "cell_type": "markdown",
      "source": [
        "##Distancia de Viaje y Adquisicion de Bicicleta"
      ],
      "metadata": {
        "id": "By8mIghZHX0K"
      }
    },
    {
      "cell_type": "markdown",
      "source": [
        ">Se presenta que el grupo que compra mas bicicletas es aquel que no tiene autos. mientras que aquellas poblaciones que tienen mas de 4 por lo regular no adquieren ninguna como se muestra a continuacion. "
      ],
      "metadata": {
        "id": "vC7lpU93ioag"
      }
    },
    {
      "cell_type": "markdown",
      "source": [
        "##Autos y Distancia recorrida"
      ],
      "metadata": {
        "id": "gnwZcaKmKdfH"
      }
    },
    {
      "cell_type": "code",
      "source": [
        "pd.crosstab(compradores['autos'],compradores['distancia_d_viaje'])"
      ],
      "metadata": {
        "id": "1_1wbGlEKdOD"
      },
      "execution_count": null,
      "outputs": []
    },
    {
      "cell_type": "code",
      "source": [
        "o = tablas_conting_2(compradores['bicicleta_adquirida'],compradores['distancia_d_viaje']);\n",
        "graph_conting(o,2)"
      ],
      "metadata": {
        "id": "uxY-choJp8Zm"
      },
      "execution_count": null,
      "outputs": []
    },
    {
      "cell_type": "markdown",
      "source": [
        "###Distancia de Viaje y Autos"
      ],
      "metadata": {
        "id": "RfmnI52PSD4i"
      }
    },
    {
      "cell_type": "markdown",
      "source": [
        "Como podemos ver, entre menos sea la distancia que una persona tenga que recorrer para llegar a su punto de encuentro (por asi llamarlo), se tiende a no necesitar un auto como medio de transporte. \n",
        "\n",
        ">Por otra parte se tiene que aquellos que tienen 2 autos presentan una distribucion mas uniforme respecto al numero de autos y la distancia de viaje. \n",
        "\n",
        "> Finalmente, todos los valores decrecen conforme se tienen mas autos. Como se puede observar en las siguientes graficas."
      ],
      "metadata": {
        "id": "BXV3i_9JQzzX"
      }
    },
    {
      "cell_type": "code",
      "source": [
        "o = pd.crosstab(compradores['autos'],compradores['distancia_d_viaje'])\n",
        "#o.shape # (5,5)\n",
        "graph_conting(o,2)"
      ],
      "metadata": {
        "id": "07Io4TOGFeiC"
      },
      "execution_count": null,
      "outputs": []
    },
    {
      "cell_type": "markdown",
      "source": [
        ">Como era de suponerse se tiene que entre menos autos, mayor es la probabilidad de adquirir una bicicleta, en especial cuando se tienen que recorrer las menores millas posibles. \n",
        "\n",
        ">Cabe mencionar que cuando se tienen dos autos, menor es la probabilidad de compra como podemos observar a continuacion. "
      ],
      "metadata": {
        "id": "eOUS_bisRle5"
      }
    },
    {
      "cell_type": "markdown",
      "source": [
        "###Distancia de Viaje, Adquision de Bicicleta(Yes/No) y Autos(0,1,2,3,4)"
      ],
      "metadata": {
        "id": "_fU1Sl4mSG8T"
      }
    },
    {
      "cell_type": "markdown",
      "source": [
        "Aquellos que recorren una distancia menor, son los que tienden a comprar mas bicicletas. Mientras que aquellos que recorren una mayor distancia son los que en general deciden no comprar una bicicleta. "
      ],
      "metadata": {
        "id": "EK-CJFWhhgbF"
      }
    },
    {
      "cell_type": "markdown",
      "source": [
        "Finalemente se tiene que entre mas autos una persona/familia tenga, se tiene una menor compra de bicicletas. Donde el cambio mas representativo ocurre cuando se tienen mas de 2 autos. Y cuando estos recorren mas de 5 millas."
      ],
      "metadata": {
        "id": "3fzJHXUjh22z"
      }
    },
    {
      "cell_type": "code",
      "source": [
        "o = tablas_conting_3(compradores['distancia_d_viaje'],compradores['bicicleta_adquirida'],compradores['autos'])\n",
        "graph_conting(o,3)"
      ],
      "metadata": {
        "id": "Ns3nNImm2MFw"
      },
      "execution_count": null,
      "outputs": []
    },
    {
      "cell_type": "markdown",
      "source": [
        "##Genero ~ Estado Civil ~ Adquisicion de Bicicleta"
      ],
      "metadata": {
        "id": "7Ivlz9U1Hq96"
      }
    },
    {
      "cell_type": "markdown",
      "source": [
        "###Genero y Adquisicion de Bicicleta"
      ],
      "metadata": {
        "id": "knC6oUeOSekm"
      }
    },
    {
      "cell_type": "code",
      "source": [
        "o = pd.crosstab(compradores['genero'],compradores['bicicleta_adquirida'])"
      ],
      "metadata": {
        "id": "wOpidJmFSSXe"
      },
      "execution_count": null,
      "outputs": []
    },
    {
      "cell_type": "code",
      "source": [
        "pd.crosstab(compradores['genero'],compradores['bicicleta_adquirida'])"
      ],
      "metadata": {
        "id": "J1iV5WNiIEsz"
      },
      "execution_count": null,
      "outputs": []
    },
    {
      "cell_type": "markdown",
      "source": [
        "###Estado Civil y Genero"
      ],
      "metadata": {
        "id": "HR-DeLLAJ8cZ"
      }
    },
    {
      "cell_type": "code",
      "source": [
        "o = pd.crosstab(compradores['estado_civil'],compradores['genero'])"
      ],
      "metadata": {
        "id": "ztFQFgIjI482"
      },
      "execution_count": null,
      "outputs": []
    },
    {
      "cell_type": "code",
      "source": [
        "pd.crosstab(compradores['estado_civil'],compradores['genero'])"
      ],
      "metadata": {
        "id": "nydKVa82SbNC"
      },
      "execution_count": null,
      "outputs": []
    },
    {
      "cell_type": "markdown",
      "source": [
        "##Estado Civil, Genero y Adqusicion de Bicicleta"
      ],
      "metadata": {
        "id": "hSHqJ8l9IxbZ"
      }
    },
    {
      "cell_type": "code",
      "source": [
        "pd.crosstab(compradores['estado_civil'],[compradores['bicicleta_adquirida'],compradores['genero']], margins=True, margins_name='total')"
      ],
      "metadata": {
        "id": "4zcAh6BzJB5F"
      },
      "execution_count": null,
      "outputs": []
    },
    {
      "cell_type": "code",
      "source": [
        "o = pd.crosstab(compradores['estado_civil'],[compradores['bicicleta_adquirida'],compradores['genero']])\n",
        "graph_conting(o,3)"
      ],
      "metadata": {
        "id": "s5olUwS7SmUb"
      },
      "execution_count": null,
      "outputs": []
    },
    {
      "cell_type": "markdown",
      "source": [
        "*texto en cursiva*#Funcion para Graficos de Barras"
      ],
      "metadata": {
        "id": "wlTDuVrKHt9m"
      }
    },
    {
      "cell_type": "code",
      "source": [
        "def porcentajes_data(x):\n",
        "  return x*100/x.sum()"
      ],
      "metadata": {
        "id": "cD7TGlVPsXcL"
      },
      "execution_count": null,
      "outputs": []
    },
    {
      "cell_type": "code",
      "source": [
        "def bar_plots(x,i,s,t):\n",
        "  sns.set(style=\"white\")\n",
        "  fig, axes = plt.subplots(figsize=(s,t))\n",
        "  o=['Educacion','Estado Civil','Distancia Viajada','Autos','Profesion','Modelo ~ Bicicleta','Categoria 1 ~ Bicicletas','Categoria 2 ~ Bicicletas','Aleacion','Tiendas']\n",
        "  a='Conteo ~ '\n",
        "  b=' ~ Porcentaje'\n",
        "  c=a+o[i]+b\n",
        "  ax = sns.barplot(x.index, porcentajes_data(x))\n",
        "  #sns.set(rc={'figure.figsize':})\n",
        "  ax.set_title(c,fontsize=15)\n",
        "  ax.set(ylabel='porcentaje del total'); \n",
        "  ax.set_xticklabels(ax.get_xticklabels(), rotation=70, fontsize= 15);"
      ],
      "metadata": {
        "id": "OU0V7G71swpG"
      },
      "execution_count": null,
      "outputs": []
    },
    {
      "cell_type": "markdown",
      "source": [
        "##Datos Filtrados ~ Compraron una Bicicleta"
      ],
      "metadata": {
        "id": "XgRI408l7ZHx"
      }
    },
    {
      "cell_type": "code",
      "source": [
        "educacion_2 = real_buyers['educacion'].value_counts()\n",
        "estado_civ_2 = real_buyers['estado_civil'].value_counts()\n",
        "dist_viaje_2 = real_buyers['distancia_d_viaje'].value_counts()\n",
        "autos_2 = real_buyers['autos'].value_counts()\n",
        "profesion_2 = real_buyers['profesion'].value_counts()# Grupo 1"
      ],
      "metadata": {
        "id": "KcaIn9ge4Fyx"
      },
      "execution_count": null,
      "outputs": []
    },
    {
      "cell_type": "markdown",
      "source": [
        "##Nota\n",
        ">No se agrega una descripcion aquellos graficos que van en decremento, pues los resultados que se obtienen son bastante claros, dado que se observa que aquellos que tienen mas impacto van en orden decreciente a comparacion del resto. Como el siguiente grafico que se presenta a continuacion. (Educacion)\n",
        "\n",
        ">Los que tienen un titulo son los que compraron mas bicicletas, seguido de aquellos que no terminaron la universidad, luego, estan aquellos que tienen un doctorado/maestria, seguido de aquellos que terminaron la prepa y finalmente los que no la terminaron."
      ],
      "metadata": {
        "id": "xU0UWJMw9Qhv"
      }
    },
    {
      "cell_type": "markdown",
      "source": [
        "###Educacion"
      ],
      "metadata": {
        "id": "nOJlC6HXzT9e"
      }
    },
    {
      "cell_type": "code",
      "source": [
        "bar_plots(educacion_2,0,5,4)"
      ],
      "metadata": {
        "id": "ZfkeH0Z6uuW-"
      },
      "execution_count": null,
      "outputs": []
    },
    {
      "cell_type": "markdown",
      "source": [
        "###Autos"
      ],
      "metadata": {
        "id": "BT_rdhDG7S0c"
      }
    },
    {
      "cell_type": "markdown",
      "source": [
        "Increiblemente aquellos que tienen 1 auto, compraron mas bicis que aquellos que no tienen ninguno."
      ],
      "metadata": {
        "id": "GocDWm058cNr"
      }
    },
    {
      "cell_type": "code",
      "source": [
        "bar_plots(autos_2,3,5,5)"
      ],
      "metadata": {
        "id": "cNO2-I5t7jBf"
      },
      "execution_count": null,
      "outputs": []
    },
    {
      "cell_type": "markdown",
      "source": [
        "###Estado Civil"
      ],
      "metadata": {
        "id": "Fn7yropXzXGi"
      }
    },
    {
      "cell_type": "markdown",
      "source": [
        "Los solteros compraron mas que los casados, algo inesperado. Puesto que si tienes una pareja, por obvio seria comprar dos, y por lo tanto, se tendria un mayor numero."
      ],
      "metadata": {
        "id": "rfnA236k8i6U"
      }
    },
    {
      "cell_type": "code",
      "source": [
        "bar_plots(estado_civ_2,1,5,5) "
      ],
      "metadata": {
        "id": "k_TeI_MTzWqW"
      },
      "execution_count": null,
      "outputs": []
    },
    {
      "cell_type": "markdown",
      "source": [
        "###Profesion"
      ],
      "metadata": {
        "id": "GemdVjIk7wYp"
      }
    },
    {
      "cell_type": "code",
      "source": [
        "bar_plots(profesion_2,4,5,5)"
      ],
      "metadata": {
        "id": "wOS_pSNy7y_s"
      },
      "execution_count": null,
      "outputs": []
    },
    {
      "cell_type": "markdown",
      "source": [
        "Aleacion"
      ],
      "metadata": {
        "id": "TDsiqvox78Gy"
      }
    },
    {
      "cell_type": "markdown",
      "source": [
        "###Modelos de Bicicletas Vendidas (Primeras 20)"
      ],
      "metadata": {
        "id": "9TEb4-KGz1T2"
      }
    },
    {
      "cell_type": "code",
      "source": [
        "bar_plots(modelo_bike.head(20),5,25,6)"
      ],
      "metadata": {
        "id": "-ZLFlYh5z7IN"
      },
      "execution_count": null,
      "outputs": []
    },
    {
      "cell_type": "markdown",
      "source": [
        "###Categoria 1 ~ Road y Mountain"
      ],
      "metadata": {
        "id": "1pT_rFV_0ME3"
      }
    },
    {
      "cell_type": "code",
      "source": [
        "bar_plots(cat_1_bks,1,5,5)"
      ],
      "metadata": {
        "id": "mFpaby-J0Ml8"
      },
      "execution_count": null,
      "outputs": []
    },
    {
      "cell_type": "markdown",
      "source": [
        "###Categoria 2 ~ "
      ],
      "metadata": {
        "id": "_XFwT4Dy60J0"
      }
    },
    {
      "cell_type": "code",
      "source": [
        "bar_plots(cat_2_bks,1,10,5)"
      ],
      "metadata": {
        "id": "gXkCQ7LC0M-p"
      },
      "execution_count": null,
      "outputs": []
    },
    {
      "cell_type": "markdown",
      "source": [
        "###Aleacion"
      ],
      "metadata": {
        "id": "vUoYQpnD86AB"
      }
    },
    {
      "cell_type": "code",
      "source": [
        "bar_plots(aleacion,8,5,5)"
      ],
      "metadata": {
        "id": "h7-Xp0u38_2i"
      },
      "execution_count": null,
      "outputs": []
    },
    {
      "cell_type": "markdown",
      "source": [
        "###Tiendas"
      ],
      "metadata": {
        "id": "yFGDvWB8630d"
      }
    },
    {
      "cell_type": "code",
      "source": [
        "bar_plots(tiendas,6,35,10)"
      ],
      "metadata": {
        "id": "RazM5trG0xWm"
      },
      "execution_count": null,
      "outputs": []
    },
    {
      "cell_type": "markdown",
      "source": [
        "##Boxplots y Violins"
      ],
      "metadata": {
        "id": "dIOsw5rEsnE-"
      }
    },
    {
      "cell_type": "markdown",
      "source": [
        "###Funcion ~ Boxplots ~ Violins"
      ],
      "metadata": {
        "id": "7QwS8C1en9vI"
      }
    },
    {
      "cell_type": "code",
      "source": [
        "def BoxplotsViolins(x,i,j,s,t): #x DataFrame. i,j ~ Sep,Yess. s,t ~ Figsize  \n",
        "  fig, axes = plt.subplots(2,1, figsize=(s,t),sharex=True, sharey=True);\n",
        "  sep = ['categoria_1','categoria_2','aleacion','nombre_tienda','ciudad','estado','bicicleta_adquirida',] #0 - 6\n",
        "  yss = ['total','edad','sueldo'] # 0 - 2\n",
        "  #plt.figure(figsize=(40, 10))\n",
        "  #Se aplicara Rango Intercuantilico Para \"Eliminar\" Datos Atipicos y poder Observar mejor las distribuciones de nuestras variables. \n",
        "  if(j==0):\n",
        "    iqr = x.total.quantile(0.75) - x.total.quantile(0.25)\n",
        "    filtro_inferior = x.total > x.total.quantile(0.25) - (iqr * 1.5)\n",
        "    filtro_superior = x.total < x.total.quantile(0.75) + (iqr * 1.5)\n",
        "    df_filtrado = x.total[filtro_inferior & filtro_superior]\n",
        "  elif(j==1):\n",
        "    iqr = x.edad.quantile(0.75) - x.edad.quantile(0.25)\n",
        "    filtro_inferior = x.edad > x.edad.quantile(0.25) - (iqr * 1.5)\n",
        "    filtro_superior = x.edad < x.edad.quantile(0.75) + (iqr * 1.5)\n",
        "    df_filtrado = x.edad[filtro_inferior & filtro_superior]\n",
        "  elif(j==2):\n",
        "    iqr = x.sueldo.quantile(0.75) - x.sueldo.quantile(0.25)\n",
        "    filtro_inferior = x.sueldo > x.sueldo.quantile(0.25) - (iqr * 1.5)\n",
        "    filtro_superior = x.sueldo < x.sueldo.quantile(0.75) + (iqr * 1.5)\n",
        "    df_filtrado = x.sueldo[filtro_inferior & filtro_superior]\n",
        "\n",
        "  sns.boxplot(data=x, x=sep[i], y=df_filtrado,ax=axes[0]);\n",
        "  sns.violinplot(data=x, x=sep[i], y=df_filtrado,ax=axes[1]);\n",
        "  axes[0].set_xticklabels(axes[0].get_xticklabels(), rotation=50,fontsize=13);\n",
        "  axes[1].set_xticklabels(axes[1].get_xticklabels(), rotation=45,fontsize=13);\n"
      ],
      "metadata": {
        "id": "mx-DyxaNoA8p"
      },
      "execution_count": null,
      "outputs": []
    },
    {
      "cell_type": "markdown",
      "source": [
        "## Total ~ Categoria 1"
      ],
      "metadata": {
        "id": "BpJodHPbzP8b"
      }
    },
    {
      "cell_type": "markdown",
      "source": [
        "La categoria uno se conforma por Road y Montain, un parte aguas importante en las bicicletas.\n",
        "\n",
        ">Como podremos observar en nuestro boxplot, se tienen demasiados valores atipicos en Road, por lo que es claro que se tienen menores ganacias cuando se escoje la categoria road. Ademas, como se observa, el rango intercuantilico tambien es menor, asi como la mediana de las ganancias en comparancion con la categoria Mountain. \n",
        "\n",
        ">Finalmente se tienen distribuciones multimodales en ambas categorias, pero estas son mas presentes en la categoria Mountain comparada con Road."
      ],
      "metadata": {
        "id": "KuiTWbRNmmx0"
      }
    },
    {
      "cell_type": "code",
      "source": [
        "BoxplotsViolins(str_or_bks,0,0,10,10)"
      ],
      "metadata": {
        "id": "T8uTcYUVx-rS"
      },
      "execution_count": null,
      "outputs": []
    },
    {
      "cell_type": "markdown",
      "source": [
        "Categoria 2 es donde se tienen las divisiones mas claras en cuanto a bicicletas. Formando un total de 9 diferentes tipos.\n",
        "\n",
        ">Como podemos observar en los boxplots, las bicicletas con mayores ganancias y consistentes estan formadas principalmente por \"Over Mountain\", \"Cross Country Race\" y \"Triathalon\", dado que estas no presentan valores atipicos como se muestra. \n",
        "\n",
        ">Luego se tiene, que aquellas con menores ventas estan conformadas por \"Sport\" principalmente, seguido de \"CycloCross\" y \"Fat Bike\". Puesto que son las que tienen rangos intercuantilicos mas pequeños, asi como cuartiles superiores menores a differencia del resto de categorias, y finalmente los menores outliers.\n",
        "\n",
        ">Por el lado de los violin plots podemos observar que se tienen distribuciones multimodales en la gran parte de nuestras categorias. Donde las que destacan mas, son \"Over Mountain\" y \"Cross Country Race\" teniendo multiples picos."
      ],
      "metadata": {
        "id": "Fz_uEUmpwHk5"
      }
    },
    {
      "cell_type": "code",
      "source": [
        "BoxplotsViolins(str_or_bks,1,0,15,10)"
      ],
      "metadata": {
        "id": "ZUbKbeV9vTSO"
      },
      "execution_count": null,
      "outputs": []
    },
    {
      "cell_type": "markdown",
      "source": [
        "##Total ~ Ciudad"
      ],
      "metadata": {
        "id": "T4xrCzs30vcr"
      }
    },
    {
      "cell_type": "markdown",
      "source": [
        ">A continuancion podemos observar que las ciudades con ganancias mas consistentes son conformadas por detroit, louisville, indianapolis, los angeles y Nashville. Puesto que son las ciudades que tienen menores valores atipicos a comparancion del resto de las ciudades.\n",
        "\n",
        ">Por otra parte, como era de esperarse, aquellas ciudades que presentan distribuciones normales pequeñas (achicopaladas) en los violin plots son aquellas que han tenido menores ganancias, y que ademas presentan demasiados valores atipicos, como lo es la ciudad de San Francisco, Phoenix, Providence, Las Vegas entre muchas otras. \n",
        "\n",
        "> Mientras que aquellas distribuciones mas raras e incluso donde se acercan a ser bimodales (Como lo es el caso de Columbus) son las que tienen mejores ganancias y menores valores atipicos como se muestran en sus respectivos boxplots."
      ],
      "metadata": {
        "id": "X_7GvV0tls9w"
      }
    },
    {
      "cell_type": "code",
      "source": [
        "BoxplotsViolins(str_or_bks,4,0,23,10)"
      ],
      "metadata": {
        "id": "dIRSuwIGzbyD"
      },
      "execution_count": null,
      "outputs": []
    },
    {
      "cell_type": "markdown",
      "source": [
        "El Analisis para las tiendas es bastante similar al de las ciudades, por lo que se omite, pero se deja para tener mas informacion sobre lo que ocurre con cada tienda."
      ],
      "metadata": {
        "id": "xtQT6nUdo_u_"
      }
    },
    {
      "cell_type": "code",
      "source": [
        "BoxplotsViolins(str_or_bks,3,0,25,10)"
      ],
      "metadata": {
        "id": "Azldgj1h1JVF"
      },
      "execution_count": null,
      "outputs": []
    },
    {
      "cell_type": "markdown",
      "source": [
        "##Edad ~ Compradores de Bicicleta"
      ],
      "metadata": {
        "id": "TZwpCNLL1m06"
      }
    },
    {
      "cell_type": "markdown",
      "source": [
        ">Como podemos observar a continuancion, se tiene que entre mas jovenes son los consumidores, mayor es la probabilidad de que estos compren. Como se observa en el boxplot, se tienen valores atipicos cuando estos son mayores, por lo que podemos asegurar nuestro argumento.\n",
        "\n",
        ">Como se observa en el los violins, se presenta una distribucion bimodal en la edad de aquellas personas que no han comprado una bicicleta. Con picos aproximados en las edades de 30 y 45 años. \n",
        "\n",
        ">Mientras que en la distribucion de aquellos que si compraron bicicletas se presenta un pico en la edad de 35 años aproximadamente. Y disminuciones en las edades de 30 y 45 (aprox.) como era de esperarse y viceversa. Finalmente se tiene un rango intercuantilico menor en aquellos que si compraron en comparacion a lo que no. "
      ],
      "metadata": {
        "id": "E_oN3frXjwhS"
      }
    },
    {
      "cell_type": "code",
      "source": [
        "BoxplotsViolins(compradores,6,1,6,10)"
      ],
      "metadata": {
        "id": "JUDo4jsJ1uwP"
      },
      "execution_count": null,
      "outputs": []
    },
    {
      "cell_type": "markdown",
      "source": [
        "##Salario ~ Compradores de Bicicleta"
      ],
      "metadata": {
        "id": "qzgPQUFh1sWT"
      }
    },
    {
      "cell_type": "markdown",
      "source": [
        ">En esta ocasion se observa que aquellos con mayor salario tienden a comprar mas bicis que aquellos que no, como se observa en nuestro boxplot, la mediana es mucho mayor, asi como el rango intercuantilico.\n",
        "\n",
        ">Por otra parte, en los violin plots podemos observar distribuciones bimodales, pero no se encuentra un patron a diferencia del que encontramos en el violinplot de edades."
      ],
      "metadata": {
        "id": "8hPn1bVrs0f0"
      }
    },
    {
      "cell_type": "code",
      "source": [
        "BoxplotsViolins(compradores,6,2,6,10)"
      ],
      "metadata": {
        "id": "mJJ0s4Yy1wav"
      },
      "execution_count": null,
      "outputs": []
    },
    {
      "cell_type": "markdown",
      "source": [
        "#PostWork 4\n",
        ">Realizar análisis bivariado con variables numéricas\n",
        "\n",
        ">Explorar las relaciones existentes entre nuestras variables numéricas,mediante matriz de correlaciones y pairplot\n",
        "\n",
        ">Analizar valores atípicos y decidir qué hacer con ellos\n",
        "\n",
        ">Entrenar modelos de regresión lineal para realizar predicciones"
      ],
      "metadata": {
        "id": "On42Cje9watp"
      }
    },
    {
      "cell_type": "markdown",
      "source": [
        "\n",
        "\n",
        "##Matriz de correlaciones\n",
        "\n",
        "Obtenemos una matriz de correlaciones de Pearson con la función dataframe.corr() de pandas. \n",
        "Automáticamente se va a aplicar a las columnas con datos numéricos. \n"
      ],
      "metadata": {
        "id": "rm7qkHg-L0CV"
      }
    },
    {
      "cell_type": "code",
      "source": [
        "compradores.corr()"
      ],
      "metadata": {
        "id": "gAMxgt8eL2f-"
      },
      "execution_count": null,
      "outputs": []
    },
    {
      "cell_type": "code",
      "source": [
        "Ahora representamos la matriz como mapa de calor"
      ],
      "metadata": {
        "id": "AeQ4T4y3GjA9"
      },
      "execution_count": null,
      "outputs": []
    },
    {
      "cell_type": "code",
      "source": [
        "plt.figure(figsize=(10, 8))\n",
        "ax = sns.heatmap(compradores.corr(), vmin=-1, vmax=1, annot=True, cmap=\"YlOrRd\", linewidths=.2);"
      ],
      "metadata": {
        "id": "j6gIk4HrGmFu"
      },
      "execution_count": null,
      "outputs": []
    },
    {
      "cell_type": "markdown",
      "source": [
        "La mayoría de las correlaciones son muy débiles, lo cual no es extraño ya que la mayoría de los datos del dataframe son categóricos y los numéricos no necesariamente tienen que estar correlacionados. Aún así, las mejores correlaciones se encuentran entre \"edad\" e \"hijos, y entre \"autos\" y \"sueldo\"."
      ],
      "metadata": {
        "id": "K_7nv5pLDy3K"
      }
    },
    {
      "cell_type": "markdown",
      "source": [
        "##Pairplots\n",
        "\n",
        "Con los pairplots podemos tener más criterio para definir si nuestras variables están correlacionadas. \n",
        "\n"
      ],
      "metadata": {
        "id": "40kEuuRrMBvu"
      }
    },
    {
      "cell_type": "code",
      "source": [
        "sns.pairplot(compradores);"
      ],
      "metadata": {
        "id": "-oE9H-hcLROK"
      },
      "execution_count": null,
      "outputs": []
    },
    {
      "cell_type": "markdown",
      "source": [
        "Como se observa, nuestros mejores candidatos en el heatmap realmente incluyen una variable categórica. Entre \"edad\" y \"id_comprador\" se da mayor distribución sin forma categórica, pero además de que no hace mucho sentido para el objetivo del proyecto, la correlación es muy débil. "
      ],
      "metadata": {
        "id": "14MVbAWwRjhj"
      }
    },
    {
      "cell_type": "markdown",
      "source": [
        "##Datos atípicos\n",
        "\n",
        "Como hemos visto a lo largo de nuestro analisis (Postwork 2), se ha tomado la decisión de filtar nuestros datos a partir del rango intercuantilico, dado que se tienen demasiados valores atipicos que causan bastante ruido, los cuales afectan principalmente la dispersión y el coeficiente de correlación de Pearson. "
      ],
      "metadata": {
        "id": "npdUwfuFCkO4"
      }
    },
    {
      "cell_type": "markdown",
      "source": [
        "##Modelo de Regresión Líneal\n",
        "\n",
        "Queda claro que nuestros datos son en mayoría categóricos, por lo que en sí no es posible realizar un modelo de regresión líneal (al final terminaremos creando un modelo de regresión logística). Sin embargo con fines de práctica, forzaremos el modelo entre las variables que resultaron más aptas, \"id_comprador\" y \"edad\", ya que aunque la correlación es muy débil, es negativa. "
      ],
      "metadata": {
        "id": "En-3FIO3YSCG"
      }
    },
    {
      "cell_type": "code",
      "source": [
        "sns.scatterplot(x=compradores['id_comprador'],y=compradores['edad']);"
      ],
      "metadata": {
        "id": "uholu0qUwwrx"
      },
      "execution_count": null,
      "outputs": []
    },
    {
      "cell_type": "code",
      "execution_count": null,
      "metadata": {
        "id": "6GlxVgWyUeqE"
      },
      "outputs": [],
      "source": [
        "#importamos el modelo de la librería stick-learn\n",
        "from sklearn.linear_model import LinearRegression"
      ]
    },
    {
      "cell_type": "code",
      "source": [
        "lr = LinearRegression()\n",
        "\n",
        "# Usamos 'to_frame' para crear una estructura de 2 dimensiones, como lo requiere el modelo\n",
        "lr.fit(compradores['id_comprador'].to_frame(), compradores['edad'])"
      ],
      "metadata": {
        "colab": {
          "base_uri": "https://localhost:8080/"
        },
        "id": "wsqXzMpnW8nx",
        "outputId": "4cbdf881-8b91-4db0-c6dc-b9383e3feefa"
      },
      "execution_count": null,
      "outputs": [
        {
          "output_type": "execute_result",
          "data": {
            "text/plain": [
              "LinearRegression()"
            ]
          },
          "metadata": {},
          "execution_count": 124
        }
      ]
    },
    {
      "cell_type": "code",
      "source": [
        "#intentamos predecir y \n",
        "y_predict = lr.predict(compradores['id_comprador'].to_frame())"
      ],
      "metadata": {
        "id": "ioqbveLgXBR3"
      },
      "execution_count": null,
      "outputs": []
    },
    {
      "cell_type": "code",
      "source": [
        "#creamos nuestra gráfica de y original vs y predecida(en naranja)\n",
        "sns.scatterplot(x=compradores['id_comprador'], y=compradores['edad'], s=40);\n",
        "sns.scatterplot(x=compradores['id_comprador'], y=y_predict, s=25);"
      ],
      "metadata": {
        "id": "lxpMIomBXh4G"
      },
      "execution_count": null,
      "outputs": []
    },
    {
      "cell_type": "code",
      "source": [
        "#vemos el margen de error de cada punto\n",
        "\n",
        "sns.scatterplot(x=compradores['id_comprador'], y=compradores['edad'], s=40);\n",
        "sns.scatterplot(x=compradores['id_comprador'], y=y_predict, s=25);\n",
        "\n",
        "for i in range(len(compradores['id_comprador'])):\n",
        "    plt.plot([compradores['id_comprador'][i], compradores['id_comprador'][i]], [compradores['edad'][i], y_predict[i]], 'g--')"
      ],
      "metadata": {
        "id": "-Cp9tP16X8UV"
      },
      "execution_count": null,
      "outputs": []
    },
    {
      "cell_type": "code",
      "source": [
        "#Gráficamos la línea de tendencia rojo\n",
        "\n",
        "sns.scatterplot(x=compradores['id_comprador'], y=compradores['edad'], s=40);\n",
        "sns.lineplot(x=compradores['id_comprador'], y=y_predict, color='#B92706');"
      ],
      "metadata": {
        "id": "S4vvvLO9YlOV"
      },
      "execution_count": null,
      "outputs": []
    },
    {
      "cell_type": "code",
      "source": [
        "#Extraemos la ecuación de la recta del modelo ya entrenado\n",
        "intercept = lr.intercept_\n",
        "coefficient = lr.coef_[0]"
      ],
      "metadata": {
        "id": "faOAIhm5Yjsb"
      },
      "execution_count": null,
      "outputs": []
    },
    {
      "cell_type": "code",
      "source": [
        "#Imprimimos la ecuación de la recta\n",
        "print(f'y = {coefficient} * x + {intercept}')\n",
        "\n"
      ],
      "metadata": {
        "colab": {
          "base_uri": "https://localhost:8080/"
        },
        "id": "xKf-yfgtZfU6",
        "outputId": "5ddcf0bb-6457-4dbe-ec53-11106fdf20a6"
      },
      "execution_count": null,
      "outputs": [
        {
          "output_type": "stream",
          "name": "stdout",
          "text": [
            "y = -0.00011339669340707472 * x + 46.478434326465944\n"
          ]
        }
      ]
    },
    {
      "cell_type": "code",
      "source": [
        "#Comprobamos\n",
        "print(f'Valor de x: {compradores[\"id_comprador\"][10]}')\n",
        "print(f'Valor predecido por nuestro modelo: {y_predict[10]}')\n",
        "print(f'Valor cuantificado directamente usando la funcion: {coefficient * compradores[\"id_comprador\"][10] + intercept}')"
      ],
      "metadata": {
        "colab": {
          "base_uri": "https://localhost:8080/"
        },
        "id": "wq7gWBFZaQFk",
        "outputId": "aa64ae00-b8de-4d22-feb7-18aa11a4eba4"
      },
      "execution_count": null,
      "outputs": [
        {
          "output_type": "stream",
          "name": "stdout",
          "text": [
            "Valor de x: 11434\n",
            "Valor predecido por nuestro modelo: 45.18185653404945\n",
            "Valor cuantificado directamente usando la funcion: 45.18185653404945\n"
          ]
        }
      ]
    },
    {
      "cell_type": "markdown",
      "source": [
        "Se ha intentado hacer un modelo de regresión lineal, y ha funcionado pero no tiene mucho sentido, ya que nuestros datasets se componen en su gran parte de variables categoricas. Posteriormente se hará un modelo de regresion logistica (Postwork 8)."
      ],
      "metadata": {
        "id": "NI18jmbjGix6"
      }
    },
    {
      "cell_type": "markdown",
      "source": [
        "#Postwork 5"
      ],
      "metadata": {
        "id": "QZraYBIMoZcj"
      }
    },
    {
      "cell_type": "markdown",
      "source": [
        ">Vamos a aplicar la técnica de bootstrap para analizar el sesgo en las distribucuiones ya analizadas . De cada grupo de datos se obtendrá por boostrap:\n",
        "\n",
        "a) La distribución, su asimetría y curtosis\n",
        "\n",
        "b) El error estándar\n",
        "\n",
        "c) El intervalo de confianza que te parezca más apropiado\n",
        "\n",
        ">Si es pertinente con los datos, entrenar un modelo de regresión líneal. "
      ],
      "metadata": {
        "id": "7Cn9leF60-pk"
      }
    },
    {
      "cell_type": "markdown",
      "source": [
        "##Función de Bootstrap\n",
        "\n",
        "Con la siguiente función se hacen todos los pasos del bootstrap, tomando subconjutnos aleatorios con reposición (para no alterar la probabilidad al seleccionar) y obteniendo la media. La distribución de las medias de los subconjuntos debe ser normal de acuerdo al Teorema del Límite Central, de lo contrario comenzamos a tener incertidumbre en los datos. "
      ],
      "metadata": {
        "id": "1UpJIeKhBp-x"
      }
    },
    {
      "cell_type": "code",
      "source": [
        "def all_in_one_bootstrap(x):\n",
        "  \n",
        "  means = []\n",
        "\n",
        "  for i in range(100_000):\n",
        "      if len(x)<30: #Realiza la toma aleatoria de acuerdo al tamaño del grupo\n",
        "        sample = x.sample(n=20, replace=True) \n",
        "        means.append(sample.mean())\n",
        "      else: \n",
        "        sample = x.sample(n=50, replace=True) \n",
        "        means.append(sample.mean())\n",
        "    \n",
        "  serie_means = pd.Series(means)\n",
        "\n",
        "  limite_inferior = serie_means.quantile(0.025)\n",
        "  limite_superior = serie_means.quantile(0.975)\n",
        "\n",
        "  mean_of_intervals = ((x.mean() - limite_inferior) + (limite_superior - x.mean())) / 2\n",
        "\n",
        "  print(f'{Fore.CYAN}Media {Style.RESET_ALL}~ {x.mean()}') #  ~ Media\n",
        "  print(f'{Fore.CYAN}Asimetria {Style.RESET_ALL}~ {serie_means.skew()}') # ~ Asimetria\n",
        "  print(f'{Fore.CYAN}Curtosis {Style.RESET_ALL}~ {serie_means.kurtosis()}') #~ Curtosis  \n",
        "  print(f'{Fore.CYAN}Error Estandar {Style.RESET_ALL}~ {serie_means.std()}')   #  ~ Error Estandar\n",
        "  print(f'{Fore.CYAN}Valor minimo {Style.RESET_ALL}~ {serie_means.min()}') # ~ Valor minimo\n",
        "  print(f'{Fore.CYAN}Valor maximo {Style.RESET_ALL}~ {serie_means.max()}') # ~ Valor maximo\n",
        "  print(f'{Fore.CYAN}Rango {Style.RESET_ALL}~ {serie_means.max() - serie_means.min()}') # ~ Rango\n",
        "  print(f'{Fore.CYAN}Intervalo de 95% confianza de la media {Style.RESET_ALL}~{limite_inferior} < {x.mean()} < {limite_superior}') #limites al 95%\n",
        "  print(f'{Fore.CYAN}Intervalo de 95% confianza de la media {Style.RESET_ALL}~ {x.mean()} +/- {mean_of_intervals}') #media +- rango de intervalos\n",
        "\n",
        "  #Graficamos\n",
        "  sns.displot(serie_means, kde=False)\n",
        "  plt.axvline(limite_inferior)\n",
        "  plt.axvline(limite_superior);\n"
      ],
      "metadata": {
        "id": "Jl7O6saStOAQ"
      },
      "execution_count": null,
      "outputs": []
    },
    {
      "cell_type": "markdown",
      "source": [
        "Como son bastantes datos a analizar sólo se da un comentario breve en cada caso y se da un comentario general al final. "
      ],
      "metadata": {
        "id": "uWOlEYyTCcbz"
      }
    },
    {
      "cell_type": "markdown",
      "source": [
        "##Items vendidos por tienda\n",
        "Normalidad aceptable. "
      ],
      "metadata": {
        "id": "bbEJx8cNDXJG"
      }
    },
    {
      "cell_type": "code",
      "source": [
        "all_in_one_bootstrap(items_sold_per_tienda)"
      ],
      "metadata": {
        "id": "PXamI6ARx1W-"
      },
      "execution_count": null,
      "outputs": []
    },
    {
      "cell_type": "markdown",
      "source": [
        "##Items vendidos por Bici\n",
        "Normalidad excelente"
      ],
      "metadata": {
        "id": "WLE6UHdmLanq"
      }
    },
    {
      "cell_type": "code",
      "source": [
        "all_in_one_bootstrap(items_sold_per_bici)"
      ],
      "metadata": {
        "id": "T34mUdZgLaNX"
      },
      "execution_count": null,
      "outputs": []
    },
    {
      "cell_type": "markdown",
      "source": [
        "##Ganancias por Bici\n",
        "Muy buena normalidad"
      ],
      "metadata": {
        "id": "qHG6Qc1ODnQi"
      }
    },
    {
      "cell_type": "code",
      "source": [
        "all_in_one_bootstrap(gains_per_bici)"
      ],
      "metadata": {
        "id": "Fxl7GuDmDn1r"
      },
      "execution_count": null,
      "outputs": []
    },
    {
      "cell_type": "markdown",
      "source": [
        "##Ganancias por tienda\n",
        "Normalidad aceptable"
      ],
      "metadata": {
        "id": "6zpzc51oL6jq"
      }
    },
    {
      "cell_type": "code",
      "source": [
        "all_in_one_bootstrap(gains_per_tienda)"
      ],
      "metadata": {
        "id": "iEdCUvqtD01t"
      },
      "execution_count": null,
      "outputs": []
    },
    {
      "cell_type": "markdown",
      "source": [
        "##Ganancias por Orden\n",
        "Normalidad muy buena"
      ],
      "metadata": {
        "id": "m4EP2XpAMFX1"
      }
    },
    {
      "cell_type": "code",
      "source": [
        "all_in_one_bootstrap(gain_per_order)"
      ],
      "metadata": {
        "id": "WyJ84kGhD0kq"
      },
      "execution_count": null,
      "outputs": []
    },
    {
      "cell_type": "markdown",
      "source": [
        "##Ganancias por Ciudad\n",
        "Normalidad aceptable"
      ],
      "metadata": {
        "id": "riCIJo8kMjHm"
      }
    },
    {
      "cell_type": "code",
      "source": [
        "all_in_one_bootstrap(gain_per_city)"
      ],
      "metadata": {
        "id": "VOdFp9rJD0Xe"
      },
      "execution_count": null,
      "outputs": []
    },
    {
      "cell_type": "markdown",
      "source": [
        "##Ganancias por Mes de Todas las tiendas\n",
        "Normalidad excelente"
      ],
      "metadata": {
        "id": "Mrr1eABxMrPT"
      }
    },
    {
      "cell_type": "code",
      "source": [
        "all_in_one_bootstrap(gain_per_month_from_all)"
      ],
      "metadata": {
        "id": "NVBbonQ3D0GX"
      },
      "execution_count": null,
      "outputs": []
    },
    {
      "cell_type": "markdown",
      "source": [
        "##Ganancias por Mes de Cada Tienda\n",
        "Normalidad  Buena"
      ],
      "metadata": {
        "id": "4K1Y1gNtM3sg"
      }
    },
    {
      "cell_type": "code",
      "source": [
        "all_in_one_bootstrap(gain_per_month_per_tienda)"
      ],
      "metadata": {
        "id": "iqruTJz5Dz5K"
      },
      "execution_count": null,
      "outputs": []
    },
    {
      "cell_type": "markdown",
      "source": [
        "##Subtotal\n",
        "Ligeramente cargado hacia la izquierda"
      ],
      "metadata": {
        "id": "Hi-Z5nIyNCrm"
      }
    },
    {
      "cell_type": "code",
      "source": [
        "all_in_one_bootstrap(or_bikes['total'])"
      ],
      "metadata": {
        "id": "-STk31QhDzsZ"
      },
      "execution_count": null,
      "outputs": []
    },
    {
      "cell_type": "markdown",
      "source": [
        "##Edad de Clientes (No implica que hayan comprado bicicletas)\n",
        "Normalidad excelente"
      ],
      "metadata": {
        "id": "tEvAIZPCNLBm"
      }
    },
    {
      "cell_type": "code",
      "source": [
        "all_in_one_bootstrap(compradores['edad'])"
      ],
      "metadata": {
        "id": "ls_Qik_qDzeH"
      },
      "execution_count": null,
      "outputs": []
    },
    {
      "cell_type": "markdown",
      "source": [
        "##Edad de Compradores de Bicicletas\n",
        "Normalidad excelente"
      ],
      "metadata": {
        "id": "Eh1ZXOOSNSc8"
      }
    },
    {
      "cell_type": "code",
      "source": [
        "all_in_one_bootstrap(real_buyers['edad'])"
      ],
      "metadata": {
        "id": "HKCLt7YiDzQX"
      },
      "execution_count": null,
      "outputs": []
    },
    {
      "cell_type": "markdown",
      "source": [
        "##Salario de Clientes (No implica que hayan comprado una bicicleta\n",
        "Normalidad excelente"
      ],
      "metadata": {
        "id": "LfsDdsBENYAk"
      }
    },
    {
      "cell_type": "code",
      "source": [
        "all_in_one_bootstrap(compradores['sueldo'])"
      ],
      "metadata": {
        "id": "ROqhbc7WDzA-"
      },
      "execution_count": null,
      "outputs": []
    },
    {
      "cell_type": "markdown",
      "source": [
        "##Salario de Compradores de Bicicletas\n",
        "Normalidad muy buena"
      ],
      "metadata": {
        "id": "yZizlDv2Nikf"
      }
    },
    {
      "cell_type": "code",
      "source": [
        "all_in_one_bootstrap(real_buyers['sueldo'])"
      ],
      "metadata": {
        "id": "3zfoRaW1Dyyt"
      },
      "execution_count": null,
      "outputs": []
    },
    {
      "cell_type": "markdown",
      "source": [
        "##Conclusión Bootstrap\n",
        "La gran mayoría de nuestros grupos de datos cuenta con una normalidad excelente o muy buena , lo cual cumple el teorema del límite central y nos dice que los datos están sesgadoz y tienen baja incertidumbre. Algunos con calores de asimetría y curtosis entre 0.3 y 0.5 muestran una ligera carga a la izquierda, pero aún pueden pasar como normales en un criterio no muy estricto, sólo en \"Subtotal\" los datos parecen tener un sezgo ligero con los datos distribuídos hacia la izquierda.\n",
        "En todos los casos se tomó un intervalo de confianza del 95% ya que lo consideramos el mínimo para que los resultados sean aceptables.\n",
        "\n",
        "##Entrenamiento de modelo de Regresión Lineal Múltiple\n",
        "Como se ha evidenciado en nuestros data frames, nuestros datos son categóricos y los numéricos tienen una correlación demasiado baja, por lo que no es pertinente realizar un modelo de Regresión Líneal Múltiple. Al final nos quedamremos con un modelo de Regresión Logística"
      ],
      "metadata": {
        "id": "hb5jObnJOyci"
      }
    },
    {
      "cell_type": "markdown",
      "source": [
        "# Postwork 6"
      ],
      "metadata": {
        "id": "yAfPqw5NMYPp"
      }
    },
    {
      "cell_type": "code",
      "source": [
        "path = \"https://raw.githubusercontent.com/hvasquez28/g1-ds_santander-f2-team7-Phyton/datos-faltantes-y-correciones/Entrega_Final_Procesamiento_DanielTapia_LuisZanabria_NorbertoPena_HaroldVasquez/datasets/bike_buyers.csv\"\n",
        "df = pd.read_csv(path)\n",
        "df = df.drop(['ID'], axis = 1)\n",
        "df.head()"
      ],
      "metadata": {
        "id": "xLaVg3_FMhm3"
      },
      "execution_count": null,
      "outputs": []
    },
    {
      "cell_type": "code",
      "source": [
        "education = list(pd.unique(df['Education']))\n",
        "counts = df.value_counts([\"Education\", \"Gender\"])\n",
        "y1 = [counts[value]['Male'] for value in education]\n",
        "y2 = [counts[value]['Female'] for value in education]"
      ],
      "metadata": {
        "id": "YNba6QlUMXtQ"
      },
      "execution_count": null,
      "outputs": []
    },
    {
      "cell_type": "code",
      "source": [
        "plt.bar(education, y1, color='r', label = 'male')\n",
        "plt.bar(education, y2, bottom=y1, label = 'female', color='b')\n",
        "plt.xticks(rotation=45)\n",
        "plt.legend(loc=\"upper right\")\n",
        "plt.show()"
      ],
      "metadata": {
        "id": "80eZYzTuNxuY"
      },
      "execution_count": null,
      "outputs": []
    },
    {
      "cell_type": "code",
      "source": [
        "plt.figure(figsize=(10, 8), dpi=80)\n",
        "sns.scatterplot(x=\"Children\", y=\"Income\", data=df, hue=\"Region\")\n",
        "plt.legend(loc=\"upper left\")\n",
        "plt.show()"
      ],
      "metadata": {
        "id": "TClyIkopN0Gv"
      },
      "execution_count": null,
      "outputs": []
    },
    {
      "cell_type": "code",
      "source": [
        "path = \"https://github.com/hvasquez28/g1-ds_santander-f2-team7-Phyton/blob/datos-faltantes-y-correciones/Entrega_Final_Procesamiento_DanielTapia_LuisZanabria_NorbertoPena_HaroldVasquez/datasets/bikeshops.xlsx?raw=true\"\n",
        "df2 = pd.read_excel(path)\n",
        "df2 = df2.drop(['bikeshop.id'], axis = 1)\n",
        "df2.head()"
      ],
      "metadata": {
        "id": "jdhMcXrrN2TS"
      },
      "execution_count": null,
      "outputs": []
    },
    {
      "cell_type": "code",
      "source": [
        "sns.scatterplot(x = \"latitude\", y = 'longitude', data = df2, hue = 'bikeshop.state')\n",
        "plt.legend(bbox_to_anchor=(1.04, 1), loc=\"upper left\")\n",
        "plt.show()"
      ],
      "metadata": {
        "id": "nJfQOl0vN4Pv"
      },
      "execution_count": null,
      "outputs": []
    },
    {
      "cell_type": "markdown",
      "source": [
        "# Postwork 7\n",
        "Para el proposito de este proyecto, no es necesario aplicar NLP"
      ],
      "metadata": {
        "id": "e3M_ziELOizr"
      }
    },
    {
      "cell_type": "markdown",
      "source": [
        "# Postwork 8"
      ],
      "metadata": {
        "id": "_HORCDUUPN2t"
      }
    },
    {
      "cell_type": "code",
      "source": [
        "path = \"https://raw.githubusercontent.com/hvasquez28/g1-ds_santander-f2-team7-Phyton/datos-faltantes-y-correciones/Entrega_Final_Procesamiento_DanielTapia_LuisZanabria_NorbertoPena_HaroldVasquez/datasets/bike_buyers.csv\"\n",
        "df = pd.read_csv(path)\n",
        "df_copy = df.copy()"
      ],
      "metadata": {
        "id": "_LL7ADusPfdA"
      },
      "execution_count": null,
      "outputs": []
    },
    {
      "cell_type": "markdown",
      "metadata": {
        "id": "2a4f335f"
      },
      "source": [
        "## Limpieza de los datos"
      ]
    },
    {
      "cell_type": "markdown",
      "metadata": {
        "id": "8dd57c1a"
      },
      "source": [
        "Vamos a limpiar nuestro dataset para seleccionar nuestras variables independientes X y nuestra variable dependiente y, además de procesar los datos para transformar valores categóricos a su representación númerica"
      ]
    },
    {
      "cell_type": "markdown",
      "metadata": {
        "id": "3d38d087"
      },
      "source": [
        "Revisaremos primero si podemos sustituir valores nulos de algunas columnas para no remover filas de nuestro dataset"
      ]
    },
    {
      "cell_type": "code",
      "execution_count": null,
      "metadata": {
        "id": "f45c46db"
      },
      "outputs": [],
      "source": [
        "df_copy.isna().sum()"
      ]
    },
    {
      "cell_type": "code",
      "execution_count": null,
      "metadata": {
        "id": "6b201bf6"
      },
      "outputs": [],
      "source": [
        "df_copy.dropna(subset = ['Income','Children','Home Owner', 'Cars','Age','Marital Status'], axis = 0, inplace = True)\n",
        "df_copy.isna().sum()"
      ]
    },
    {
      "cell_type": "code",
      "execution_count": null,
      "metadata": {
        "id": "964d803a"
      },
      "outputs": [],
      "source": [
        "pd.unique(df_copy['Gender'])"
      ]
    },
    {
      "cell_type": "code",
      "execution_count": null,
      "metadata": {
        "id": "af52506b"
      },
      "outputs": [],
      "source": [
        "df_copy.isna().sum()"
      ]
    },
    {
      "cell_type": "code",
      "execution_count": null,
      "metadata": {
        "id": "a43253de"
      },
      "outputs": [],
      "source": [
        "df_copy['Gender'].replace(np.nan, 'Other', inplace=True)"
      ]
    },
    {
      "cell_type": "code",
      "execution_count": null,
      "metadata": {
        "id": "74dc43c8"
      },
      "outputs": [],
      "source": [
        "df_copy.reset_index(drop = True, inplace = True)"
      ]
    },
    {
      "cell_type": "markdown",
      "metadata": {
        "id": "e66c09ac"
      },
      "source": [
        "## Transformación de los datos"
      ]
    },
    {
      "cell_type": "markdown",
      "metadata": {
        "id": "9b3fa70b"
      },
      "source": [
        "Vamos a obtener la representación númerica de las variables categóricas del conjunto de datos"
      ]
    },
    {
      "cell_type": "code",
      "execution_count": null,
      "metadata": {
        "id": "52528716"
      },
      "outputs": [],
      "source": [
        "df_copy['Purchased Bike'] = df_copy['Purchased Bike'].map({'Yes':1, 'No':0})\n",
        "#df_copy['Marital Status'] = df_copy['Marital Status'].map({'Married':1, 'Single':0})\n",
        "#df_copy['Home Owner'] = df_copy['Home Owner'].map({'Yes':1, 'No':0})\n",
        "\n",
        "df_copy = df_copy.drop(['ID'], axis = 1)"
      ]
    },
    {
      "cell_type": "code",
      "execution_count": null,
      "metadata": {
        "id": "cbe116dc"
      },
      "outputs": [],
      "source": [
        "df_copy.head()"
      ]
    },
    {
      "cell_type": "markdown",
      "metadata": {
        "id": "771de68c"
      },
      "source": [
        "## Obtención de de dummies para variables categóricas"
      ]
    },
    {
      "cell_type": "code",
      "execution_count": null,
      "metadata": {
        "id": "67fc2e22"
      },
      "outputs": [],
      "source": [
        "X_list = ['Marital Status', 'Gender','Income', 'Region','Home Owner', 'Cars','Age'] #Lista para seleccionar los atributos para el modelo\n",
        "X_list_excluded = df_copy.columns.difference(X_list) #Lista con los atributos que NO se usaran\n",
        "categorical_list = ['Marital Status', 'Gender','Home Owner', 'Region'] #Lista con los atributos de los que obtendremos los dummies"
      ]
    },
    {
      "cell_type": "code",
      "execution_count": null,
      "metadata": {
        "id": "d36dd42d"
      },
      "outputs": [],
      "source": [
        "df_list = []\n",
        "for categorical in categorical_list:\n",
        "    df_list.append(pd.get_dummies(df_copy[categorical], drop_first=True))"
      ]
    },
    {
      "cell_type": "code",
      "execution_count": null,
      "metadata": {
        "id": "3183eee7"
      },
      "outputs": [],
      "source": [
        "for dataframe in df_list:\n",
        "    df_copy = pd.concat([df_copy, dataframe], axis = 1)\n",
        "    \n",
        "df_copy.head()"
      ]
    },
    {
      "cell_type": "code",
      "execution_count": null,
      "metadata": {
        "id": "9cd5a18a"
      },
      "outputs": [],
      "source": [
        "df_copy = df_copy.drop(categorical_list, axis = 1)"
      ]
    },
    {
      "cell_type": "code",
      "execution_count": null,
      "metadata": {
        "id": "fd14b580"
      },
      "outputs": [],
      "source": [
        "df_copy.head()"
      ]
    },
    {
      "cell_type": "markdown",
      "metadata": {
        "id": "7721fb71"
      },
      "source": [
        "## Selección de atributos y modelo logístico"
      ]
    },
    {
      "cell_type": "code",
      "execution_count": null,
      "metadata": {
        "id": "46cf32aa"
      },
      "outputs": [],
      "source": [
        "X = np.asarray(df_copy.drop(X_list_excluded, axis = 1))\n",
        "y = np.asarray(df_copy['Purchased Bike'].astype('int'))"
      ]
    },
    {
      "cell_type": "markdown",
      "metadata": {
        "id": "94c12d45"
      },
      "source": [
        "Normalizaremos el conjunto de datos"
      ]
    },
    {
      "cell_type": "code",
      "execution_count": null,
      "metadata": {
        "id": "cd426081"
      },
      "outputs": [],
      "source": [
        "X = preprocessing.StandardScaler().fit(X).transform(X)\n",
        "X[0:5]"
      ]
    },
    {
      "cell_type": "markdown",
      "metadata": {
        "id": "0970c218"
      },
      "source": [
        "## Entrenamiento/Pruebas del modelo"
      ]
    },
    {
      "cell_type": "markdown",
      "metadata": {
        "id": "2650d9b0"
      },
      "source": [
        "Dividiremos los datos en un 80% para entrenamiento y el 20% restante para probar el modelo"
      ]
    },
    {
      "cell_type": "code",
      "execution_count": null,
      "metadata": {
        "id": "a8ac850c"
      },
      "outputs": [],
      "source": [
        "X_train, X_test, y_train, y_test = train_test_split( X, y, test_size=0.2, random_state=4)\n",
        "print ('Train set:', X_train.shape,  y_train.shape)\n",
        "print ('Test set:', X_test.shape,  y_test.shape)"
      ]
    },
    {
      "cell_type": "markdown",
      "metadata": {
        "id": "760ad5cf"
      },
      "source": [
        "Definimos nuestro modelo logístico"
      ]
    },
    {
      "cell_type": "code",
      "execution_count": null,
      "metadata": {
        "id": "265fa028",
        "outputId": "4e6c2898-6d0e-43d6-c975-73f9b90c9a90"
      },
      "outputs": [
        {
          "data": {
            "text/html": [
              "<style>#sk-container-id-1 {color: black;background-color: white;}#sk-container-id-1 pre{padding: 0;}#sk-container-id-1 div.sk-toggleable {background-color: white;}#sk-container-id-1 label.sk-toggleable__label {cursor: pointer;display: block;width: 100%;margin-bottom: 0;padding: 0.3em;box-sizing: border-box;text-align: center;}#sk-container-id-1 label.sk-toggleable__label-arrow:before {content: \"▸\";float: left;margin-right: 0.25em;color: #696969;}#sk-container-id-1 label.sk-toggleable__label-arrow:hover:before {color: black;}#sk-container-id-1 div.sk-estimator:hover label.sk-toggleable__label-arrow:before {color: black;}#sk-container-id-1 div.sk-toggleable__content {max-height: 0;max-width: 0;overflow: hidden;text-align: left;background-color: #f0f8ff;}#sk-container-id-1 div.sk-toggleable__content pre {margin: 0.2em;color: black;border-radius: 0.25em;background-color: #f0f8ff;}#sk-container-id-1 input.sk-toggleable__control:checked~div.sk-toggleable__content {max-height: 200px;max-width: 100%;overflow: auto;}#sk-container-id-1 input.sk-toggleable__control:checked~label.sk-toggleable__label-arrow:before {content: \"▾\";}#sk-container-id-1 div.sk-estimator input.sk-toggleable__control:checked~label.sk-toggleable__label {background-color: #d4ebff;}#sk-container-id-1 div.sk-label input.sk-toggleable__control:checked~label.sk-toggleable__label {background-color: #d4ebff;}#sk-container-id-1 input.sk-hidden--visually {border: 0;clip: rect(1px 1px 1px 1px);clip: rect(1px, 1px, 1px, 1px);height: 1px;margin: -1px;overflow: hidden;padding: 0;position: absolute;width: 1px;}#sk-container-id-1 div.sk-estimator {font-family: monospace;background-color: #f0f8ff;border: 1px dotted black;border-radius: 0.25em;box-sizing: border-box;margin-bottom: 0.5em;}#sk-container-id-1 div.sk-estimator:hover {background-color: #d4ebff;}#sk-container-id-1 div.sk-parallel-item::after {content: \"\";width: 100%;border-bottom: 1px solid gray;flex-grow: 1;}#sk-container-id-1 div.sk-label:hover label.sk-toggleable__label {background-color: #d4ebff;}#sk-container-id-1 div.sk-serial::before {content: \"\";position: absolute;border-left: 1px solid gray;box-sizing: border-box;top: 0;bottom: 0;left: 50%;z-index: 0;}#sk-container-id-1 div.sk-serial {display: flex;flex-direction: column;align-items: center;background-color: white;padding-right: 0.2em;padding-left: 0.2em;position: relative;}#sk-container-id-1 div.sk-item {position: relative;z-index: 1;}#sk-container-id-1 div.sk-parallel {display: flex;align-items: stretch;justify-content: center;background-color: white;position: relative;}#sk-container-id-1 div.sk-item::before, #sk-container-id-1 div.sk-parallel-item::before {content: \"\";position: absolute;border-left: 1px solid gray;box-sizing: border-box;top: 0;bottom: 0;left: 50%;z-index: -1;}#sk-container-id-1 div.sk-parallel-item {display: flex;flex-direction: column;z-index: 1;position: relative;background-color: white;}#sk-container-id-1 div.sk-parallel-item:first-child::after {align-self: flex-end;width: 50%;}#sk-container-id-1 div.sk-parallel-item:last-child::after {align-self: flex-start;width: 50%;}#sk-container-id-1 div.sk-parallel-item:only-child::after {width: 0;}#sk-container-id-1 div.sk-dashed-wrapped {border: 1px dashed gray;margin: 0 0.4em 0.5em 0.4em;box-sizing: border-box;padding-bottom: 0.4em;background-color: white;}#sk-container-id-1 div.sk-label label {font-family: monospace;font-weight: bold;display: inline-block;line-height: 1.2em;}#sk-container-id-1 div.sk-label-container {text-align: center;}#sk-container-id-1 div.sk-container {/* jupyter's `normalize.less` sets `[hidden] { display: none; }` but bootstrap.min.css set `[hidden] { display: none !important; }` so we also need the `!important` here to be able to override the default hidden behavior on the sphinx rendered scikit-learn.org. See: https://github.com/scikit-learn/scikit-learn/issues/21755 */display: inline-block !important;position: relative;}#sk-container-id-1 div.sk-text-repr-fallback {display: none;}</style><div id=\"sk-container-id-1\" class=\"sk-top-container\"><div class=\"sk-text-repr-fallback\"><pre>LogisticRegression(C=0.01, solver=&#x27;liblinear&#x27;)</pre><b>In a Jupyter environment, please rerun this cell to show the HTML representation or trust the notebook. <br />On GitHub, the HTML representation is unable to render, please try loading this page with nbviewer.org.</b></div><div class=\"sk-container\" hidden><div class=\"sk-item\"><div class=\"sk-estimator sk-toggleable\"><input class=\"sk-toggleable__control sk-hidden--visually\" id=\"sk-estimator-id-1\" type=\"checkbox\" checked><label for=\"sk-estimator-id-1\" class=\"sk-toggleable__label sk-toggleable__label-arrow\">LogisticRegression</label><div class=\"sk-toggleable__content\"><pre>LogisticRegression(C=0.01, solver=&#x27;liblinear&#x27;)</pre></div></div></div></div></div>"
            ],
            "text/plain": [
              "LogisticRegression(C=0.01, solver='liblinear')"
            ]
          },
          "execution_count": 21,
          "metadata": {},
          "output_type": "execute_result"
        }
      ],
      "source": [
        "LR = LogisticRegression(C=0.01, solver='liblinear').fit(X_train,y_train)\n",
        "LR"
      ]
    },
    {
      "cell_type": "markdown",
      "metadata": {
        "id": "90e1d068"
      },
      "source": [
        "Ahora vamos a predecir usando nuestros datos de pruebas"
      ]
    },
    {
      "cell_type": "code",
      "execution_count": null,
      "metadata": {
        "id": "ffb77a86"
      },
      "outputs": [],
      "source": [
        "yhat = LR.predict(X_test)\n",
        "yhat"
      ]
    },
    {
      "cell_type": "markdown",
      "metadata": {
        "id": "7c0f58cb"
      },
      "source": [
        "**predict_proba** devuelve estimaciones para todas las clases, ordenadas por la etiqueta de las clases. Entonces, la primera columna es la probabilidad de la clase 0, P(Y=0|X), y la segunda columna es la probabilidad de la clase 1, P(Y=1|X):"
      ]
    },
    {
      "cell_type": "code",
      "execution_count": null,
      "metadata": {
        "id": "b96331c8"
      },
      "outputs": [],
      "source": [
        "yhat_prob = LR.predict_proba(X_test)\n",
        "yhat_prob"
      ]
    },
    {
      "cell_type": "markdown",
      "metadata": {
        "id": "be516e5a"
      },
      "source": [
        "## Evaluación"
      ]
    },
    {
      "cell_type": "markdown",
      "metadata": {
        "id": "b51f89ab"
      },
      "source": [
        "## Matriz de confusión"
      ]
    },
    {
      "cell_type": "markdown",
      "metadata": {
        "id": "7311f187"
      },
      "source": [
        "Vamos a evaluar nuestro modelo con la matriz de confusión."
      ]
    },
    {
      "cell_type": "code",
      "execution_count": null,
      "metadata": {
        "id": "8451652e",
        "outputId": "5c067d1d-5b78-4474-d0b4-490278aa9a45"
      },
      "outputs": [
        {
          "name": "stdout",
          "output_type": "stream",
          "text": [
            "[[55 24]\n",
            " [44 70]]\n"
          ]
        }
      ],
      "source": [
        "print(confusion_matrix(y_test, yhat, labels=[1,0]))"
      ]
    },
    {
      "cell_type": "code",
      "execution_count": null,
      "metadata": {
        "id": "f04ea805"
      },
      "outputs": [],
      "source": [
        "print(classification_report(y_test, yhat))"
      ]
    },
    {
      "cell_type": "code",
      "execution_count": null,
      "metadata": {
        "id": "a2fcd312"
      },
      "outputs": [],
      "source": [
        "from sklearn.metrics import log_loss\n",
        "log_loss(y_test, yhat_prob)"
      ]
    },
    {
      "cell_type": "code",
      "execution_count": null,
      "metadata": {
        "id": "aef5fcc9"
      },
      "outputs": [],
      "source": [
        "importance = LR.coef_.flatten()\n",
        "plt.rcParams[\"figure.figsize\"] = (10,10)\n",
        "plt.barh(df_copy.drop(X_list_excluded, axis = 1).columns, importance)\n",
        "plt.title('Resumen de la importancia de los atributos')\n",
        "plt.xlabel('Puntuación')\n",
        "plt.show()\n"
      ]
    },
    {
      "cell_type": "code",
      "execution_count": null,
      "metadata": {
        "id": "01d5d001"
      },
      "outputs": [],
      "source": [
        "LR.score(X_test, y_test)"
      ]
    },
    {
      "cell_type": "code",
      "execution_count": null,
      "metadata": {
        "id": "7e38c4ee"
      },
      "outputs": [],
      "source": [
        "path = \"https://github.com/hvasquez28/g1-ds_santander-f2-team7-Phyton/blob/datos-faltantes-y-correciones/Entrega_Final_Procesamiento_DanielTapia_LuisZanabria_NorbertoPena_HaroldVasquez/datasets/bikeshops.xlsx?raw=true\"\n",
        "df = pd.read_excel(path)\n",
        "df = df.drop(['bikeshop.id'], axis = 1)\n",
        "df.head()"
      ]
    },
    {
      "cell_type": "markdown",
      "metadata": {
        "id": "69be157c"
      },
      "source": [
        "## Selección de atributos"
      ]
    },
    {
      "cell_type": "code",
      "execution_count": null,
      "metadata": {
        "id": "528016d1"
      },
      "outputs": [],
      "source": [
        "X = df.iloc[:, 3:5]\n",
        "X"
      ]
    },
    {
      "cell_type": "markdown",
      "metadata": {
        "id": "48f68d8e"
      },
      "source": [
        "## Encontrando el número óptimo de Clusters"
      ]
    },
    {
      "cell_type": "code",
      "execution_count": null,
      "metadata": {
        "id": "4c89875a"
      },
      "outputs": [],
      "source": [
        "wcss = []\n",
        "for i in range(1,21):\n",
        "    kmeans = KMeans(i)\n",
        "    kmeans.fit(X)\n",
        "    wcss.append(kmeans.inertia_)\n"
      ]
    },
    {
      "cell_type": "code",
      "execution_count": null,
      "metadata": {
        "id": "5fe8083a"
      },
      "outputs": [],
      "source": [
        "number_clusters = list(range(1,21))\n",
        "plt.plot(number_clusters, wcss)\n",
        "plt.show()"
      ]
    },
    {
      "cell_type": "markdown",
      "metadata": {
        "id": "8747fccd"
      },
      "source": [
        "Podemos observar que el número óptimo de clusters sería de 8 a 10"
      ]
    },
    {
      "cell_type": "markdown",
      "metadata": {
        "id": "089923e9"
      },
      "source": [
        "## Clustering y Resultados"
      ]
    },
    {
      "cell_type": "code",
      "execution_count": null,
      "metadata": {
        "id": "c6098237"
      },
      "outputs": [],
      "source": [
        "kmeans = KMeans(8)\n",
        "kmeans.fit(X)"
      ]
    },
    {
      "cell_type": "code",
      "execution_count": null,
      "metadata": {
        "id": "3a8f9e48"
      },
      "outputs": [],
      "source": [
        "identified_clusters = kmeans.fit_predict(X)\n",
        "identified_clusters"
      ]
    },
    {
      "cell_type": "code",
      "execution_count": null,
      "metadata": {
        "id": "85c738a3"
      },
      "outputs": [],
      "source": [
        "data_clusters = df.copy()\n",
        "data_clusters['Cluster'] = identified_clusters\n",
        "data_clusters.head()"
      ]
    },
    {
      "cell_type": "code",
      "execution_count": null,
      "metadata": {
        "id": "f53b1b87"
      },
      "outputs": [],
      "source": [
        "plt.scatter(data_clusters['longitude'], data_clusters['latitude'], c =  data_clusters['Cluster'])\n",
        "plt.show()"
      ]
    },
    {
      "cell_type": "code",
      "execution_count": null,
      "metadata": {
        "id": "6233b14d"
      },
      "outputs": [],
      "source": []
    }
  ]
}